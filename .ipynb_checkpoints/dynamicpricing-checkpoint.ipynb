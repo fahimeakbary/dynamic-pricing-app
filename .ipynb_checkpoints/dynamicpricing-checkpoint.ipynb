{
 "cells": [
  {
   "cell_type": "code",
   "execution_count": 1,
   "id": "ded866ce-75a2-4182-bbb2-0bf8a7d8cc6b",
   "metadata": {},
   "outputs": [
    {
     "name": "stdout",
     "output_type": "stream",
     "text": [
      "Requirement already satisfied: pandas in c:\\users\\fakba\\anaconda3\\envs\\dynamicpricing\\lib\\site-packages (2.3.0)\n",
      "Requirement already satisfied: numpy>=1.26.0 in c:\\users\\fakba\\anaconda3\\envs\\dynamicpricing\\lib\\site-packages (from pandas) (2.2.0)\n",
      "Requirement already satisfied: python-dateutil>=2.8.2 in c:\\users\\fakba\\anaconda3\\envs\\dynamicpricing\\lib\\site-packages (from pandas) (2.9.0.post0)\n",
      "Requirement already satisfied: pytz>=2020.1 in c:\\users\\fakba\\anaconda3\\envs\\dynamicpricing\\lib\\site-packages (from pandas) (2025.2)\n",
      "Requirement already satisfied: tzdata>=2022.7 in c:\\users\\fakba\\anaconda3\\envs\\dynamicpricing\\lib\\site-packages (from pandas) (2025.2)\n",
      "Requirement already satisfied: six>=1.5 in c:\\users\\fakba\\anaconda3\\envs\\dynamicpricing\\lib\\site-packages (from python-dateutil>=2.8.2->pandas) (1.17.0)\n"
     ]
    }
   ],
   "source": [
    "! pip install pandas"
   ]
  },
  {
   "cell_type": "code",
   "execution_count": 3,
   "id": "85543a6e-becd-4734-a93b-da5ec4f37e5c",
   "metadata": {},
   "outputs": [
    {
     "name": "stdout",
     "output_type": "stream",
     "text": [
      "(7043, 21)\n",
      "   customerID  gender  SeniorCitizen Partner Dependents  tenure PhoneService  \\\n",
      "0  7590-VHVEG  Female              0     Yes         No       1           No   \n",
      "1  5575-GNVDE    Male              0      No         No      34          Yes   \n",
      "2  3668-QPYBK    Male              0      No         No       2          Yes   \n",
      "3  7795-CFOCW    Male              0      No         No      45           No   \n",
      "4  9237-HQITU  Female              0      No         No       2          Yes   \n",
      "\n",
      "      MultipleLines InternetService OnlineSecurity  ... DeviceProtection  \\\n",
      "0  No phone service             DSL             No  ...               No   \n",
      "1                No             DSL            Yes  ...              Yes   \n",
      "2                No             DSL            Yes  ...               No   \n",
      "3  No phone service             DSL            Yes  ...              Yes   \n",
      "4                No     Fiber optic             No  ...               No   \n",
      "\n",
      "  TechSupport StreamingTV StreamingMovies        Contract PaperlessBilling  \\\n",
      "0          No          No              No  Month-to-month              Yes   \n",
      "1          No          No              No        One year               No   \n",
      "2          No          No              No  Month-to-month              Yes   \n",
      "3         Yes          No              No        One year               No   \n",
      "4          No          No              No  Month-to-month              Yes   \n",
      "\n",
      "               PaymentMethod MonthlyCharges  TotalCharges Churn  \n",
      "0           Electronic check          29.85         29.85    No  \n",
      "1               Mailed check          56.95        1889.5    No  \n",
      "2               Mailed check          53.85        108.15   Yes  \n",
      "3  Bank transfer (automatic)          42.30       1840.75    No  \n",
      "4           Electronic check          70.70        151.65   Yes  \n",
      "\n",
      "[5 rows x 21 columns]\n",
      "<class 'pandas.core.frame.DataFrame'>\n",
      "RangeIndex: 7043 entries, 0 to 7042\n",
      "Data columns (total 21 columns):\n",
      " #   Column            Non-Null Count  Dtype  \n",
      "---  ------            --------------  -----  \n",
      " 0   customerID        7043 non-null   object \n",
      " 1   gender            7043 non-null   object \n",
      " 2   SeniorCitizen     7043 non-null   int64  \n",
      " 3   Partner           7043 non-null   object \n",
      " 4   Dependents        7043 non-null   object \n",
      " 5   tenure            7043 non-null   int64  \n",
      " 6   PhoneService      7043 non-null   object \n",
      " 7   MultipleLines     7043 non-null   object \n",
      " 8   InternetService   7043 non-null   object \n",
      " 9   OnlineSecurity    7043 non-null   object \n",
      " 10  OnlineBackup      7043 non-null   object \n",
      " 11  DeviceProtection  7043 non-null   object \n",
      " 12  TechSupport       7043 non-null   object \n",
      " 13  StreamingTV       7043 non-null   object \n",
      " 14  StreamingMovies   7043 non-null   object \n",
      " 15  Contract          7043 non-null   object \n",
      " 16  PaperlessBilling  7043 non-null   object \n",
      " 17  PaymentMethod     7043 non-null   object \n",
      " 18  MonthlyCharges    7043 non-null   float64\n",
      " 19  TotalCharges      7043 non-null   object \n",
      " 20  Churn             7043 non-null   object \n",
      "dtypes: float64(1), int64(2), object(18)\n",
      "memory usage: 1.1+ MB\n",
      "None\n"
     ]
    }
   ],
   "source": [
    "import pandas as pd\n",
    "\n",
    "df = pd.read_csv(\"WA_Fn-UseC_-Telco-Customer-Churn.csv\")\n",
    "print(df.shape)\n",
    "print(df.head())\n",
    "print(df.info())\n"
   ]
  },
  {
   "cell_type": "code",
   "execution_count": 4,
   "id": "61caf7df-b02b-4218-ad96-4282a0795d20",
   "metadata": {},
   "outputs": [],
   "source": [
    "import pandas as pd\n",
    "import numpy as np\n",
    "\n",
    "# تبدیل TotalCharges به float\n",
    "df['TotalCharges'] = pd.to_numeric(df['TotalCharges'], errors='coerce')\n"
   ]
  },
  {
   "cell_type": "code",
   "execution_count": 6,
   "id": "1acb4e6e-80ce-4860-904a-24ae55051c36",
   "metadata": {},
   "outputs": [
    {
     "name": "stdout",
     "output_type": "stream",
     "text": [
      "<class 'pandas.core.frame.DataFrame'>\n",
      "RangeIndex: 7043 entries, 0 to 7042\n",
      "Data columns (total 21 columns):\n",
      " #   Column            Non-Null Count  Dtype  \n",
      "---  ------            --------------  -----  \n",
      " 0   customerID        7043 non-null   object \n",
      " 1   gender            7043 non-null   object \n",
      " 2   SeniorCitizen     7043 non-null   int64  \n",
      " 3   Partner           7043 non-null   object \n",
      " 4   Dependents        7043 non-null   object \n",
      " 5   tenure            7043 non-null   int64  \n",
      " 6   PhoneService      7043 non-null   object \n",
      " 7   MultipleLines     7043 non-null   object \n",
      " 8   InternetService   7043 non-null   object \n",
      " 9   OnlineSecurity    7043 non-null   object \n",
      " 10  OnlineBackup      7043 non-null   object \n",
      " 11  DeviceProtection  7043 non-null   object \n",
      " 12  TechSupport       7043 non-null   object \n",
      " 13  StreamingTV       7043 non-null   object \n",
      " 14  StreamingMovies   7043 non-null   object \n",
      " 15  Contract          7043 non-null   object \n",
      " 16  PaperlessBilling  7043 non-null   object \n",
      " 17  PaymentMethod     7043 non-null   object \n",
      " 18  MonthlyCharges    7043 non-null   float64\n",
      " 19  TotalCharges      7032 non-null   float64\n",
      " 20  Churn             7043 non-null   object \n",
      "dtypes: float64(2), int64(2), object(17)\n",
      "memory usage: 1.1+ MB\n",
      "None\n"
     ]
    }
   ],
   "source": [
    "print(df.info())"
   ]
  },
  {
   "cell_type": "code",
   "execution_count": 7,
   "id": "9a67896a-82f7-438d-bcc9-96fab76b2a41",
   "metadata": {},
   "outputs": [
    {
     "name": "stdout",
     "output_type": "stream",
     "text": [
      "customerID           0\n",
      "gender               0\n",
      "SeniorCitizen        0\n",
      "Partner              0\n",
      "Dependents           0\n",
      "tenure               0\n",
      "PhoneService         0\n",
      "MultipleLines        0\n",
      "InternetService      0\n",
      "OnlineSecurity       0\n",
      "OnlineBackup         0\n",
      "DeviceProtection     0\n",
      "TechSupport          0\n",
      "StreamingTV          0\n",
      "StreamingMovies      0\n",
      "Contract             0\n",
      "PaperlessBilling     0\n",
      "PaymentMethod        0\n",
      "MonthlyCharges       0\n",
      "TotalCharges        11\n",
      "Churn                0\n",
      "dtype: int64\n"
     ]
    }
   ],
   "source": [
    "# نمایش تعداد مقادیر گمشده در هر ستون\n",
    "print(df.isnull().sum())\n",
    "\n",
    "# حذف رکوردهایی که TotalCharges آنها NaN شده\n",
    "df = df.dropna(subset=['TotalCharges'])\n"
   ]
  },
  {
   "cell_type": "code",
   "execution_count": 8,
   "id": "4bd3842b-6dcf-41f0-aff7-f7637ce7656f",
   "metadata": {},
   "outputs": [
    {
     "name": "stdout",
     "output_type": "stream",
     "text": [
      "['customerID', 'gender', 'Partner', 'Dependents', 'PhoneService', 'MultipleLines', 'InternetService', 'OnlineSecurity', 'OnlineBackup', 'DeviceProtection', 'TechSupport', 'StreamingTV', 'StreamingMovies', 'Contract', 'PaperlessBilling', 'PaymentMethod', 'Churn']\n"
     ]
    }
   ],
   "source": [
    "cat_cols = df.select_dtypes(include='object').columns.tolist()\n",
    "print(cat_cols)"
   ]
  },
  {
   "cell_type": "code",
   "execution_count": 9,
   "id": "88991d0a-995c-4a47-bd39-4ae83d24181b",
   "metadata": {},
   "outputs": [
    {
     "name": "stdout",
     "output_type": "stream",
     "text": [
      "تغییرات روی نسخه‌ی کپی اعمال و در فایل 'data_modified.csv' ذخیره شد.\n"
     ]
    }
   ],
   "source": [
    "import pandas as pd\n",
    "\n",
    "# 1. خواندن فایل اصلی (مثلاً data.csv)\n",
    "df_original = pd.read_csv(\"WA_Fn-UseC_-Telco-Customer-Churn.csv\")\n",
    "\n",
    "# 2. ساختن یک کپی از دیتافریم اصلی\n",
    "df_copy = df_original.copy()\n",
    "\n",
    "# 3. اعمال تغییرات روی نسخه‌ی کپی\n",
    "df_copy['Churn'] = df_copy['Churn'].map({'No': 0, 'Yes': 1})\n",
    "\n",
    "# 4. ذخیره نسخه‌ی تغییر یافته در یک فایل جدید\n",
    "df_copy.to_csv(\"data_modified.csv\", index=False)\n",
    "\n",
    "# 5. پیام تایید (اختیاری)\n",
    "print(\"تغییرات روی نسخه‌ی کپی اعمال و در فایل 'data_modified.csv' ذخیره شد.\")\n"
   ]
  },
  {
   "cell_type": "code",
   "execution_count": 10,
   "id": "d1ddbb02-c80a-4093-8ce6-9c97e6932815",
   "metadata": {},
   "outputs": [
    {
     "name": "stdout",
     "output_type": "stream",
     "text": [
      "   customerID  gender  SeniorCitizen Partner Dependents  tenure PhoneService  \\\n",
      "0  7590-VHVEG  Female              0     Yes         No       1           No   \n",
      "1  5575-GNVDE    Male              0      No         No      34          Yes   \n",
      "2  3668-QPYBK    Male              0      No         No       2          Yes   \n",
      "3  7795-CFOCW    Male              0      No         No      45           No   \n",
      "4  9237-HQITU  Female              0      No         No       2          Yes   \n",
      "\n",
      "      MultipleLines InternetService OnlineSecurity  ... DeviceProtection  \\\n",
      "0  No phone service             DSL             No  ...               No   \n",
      "1                No             DSL            Yes  ...              Yes   \n",
      "2                No             DSL            Yes  ...               No   \n",
      "3  No phone service             DSL            Yes  ...              Yes   \n",
      "4                No     Fiber optic             No  ...               No   \n",
      "\n",
      "  TechSupport StreamingTV StreamingMovies        Contract PaperlessBilling  \\\n",
      "0          No          No              No  Month-to-month              Yes   \n",
      "1          No          No              No        One year               No   \n",
      "2          No          No              No  Month-to-month              Yes   \n",
      "3         Yes          No              No        One year               No   \n",
      "4          No          No              No  Month-to-month              Yes   \n",
      "\n",
      "               PaymentMethod MonthlyCharges  TotalCharges  Churn  \n",
      "0           Electronic check          29.85         29.85     No  \n",
      "1               Mailed check          56.95       1889.50     No  \n",
      "2               Mailed check          53.85        108.15    Yes  \n",
      "3  Bank transfer (automatic)          42.30       1840.75     No  \n",
      "4           Electronic check          70.70        151.65    Yes  \n",
      "\n",
      "[5 rows x 21 columns]\n"
     ]
    }
   ],
   "source": [
    "print(df.head())"
   ]
  },
  {
   "cell_type": "code",
   "execution_count": 12,
   "id": "1ec00220-376e-486d-a299-bc768a622deb",
   "metadata": {},
   "outputs": [
    {
     "name": "stdout",
     "output_type": "stream",
     "text": [
      "📋 ستون‌های دیتافریم:\n",
      "['customerID', 'gender', 'SeniorCitizen', 'Partner', 'Dependents', 'tenure', 'PhoneService', 'MultipleLines', 'InternetService', 'OnlineSecurity', 'OnlineBackup', 'DeviceProtection', 'TechSupport', 'StreamingTV', 'StreamingMovies', 'Contract', 'PaperlessBilling', 'PaymentMethod', 'MonthlyCharges', 'TotalCharges', 'Churn']\n",
      "✅ داده‌های تبدیل‌شده:\n",
      "   customerID  SeniorCitizen  tenure  MonthlyCharges TotalCharges  Churn  \\\n",
      "0  7590-VHVEG              0       1           29.85        29.85      0   \n",
      "1  5575-GNVDE              0      34           56.95       1889.5      0   \n",
      "2  3668-QPYBK              0       2           53.85       108.15      1   \n",
      "3  7795-CFOCW              0      45           42.30      1840.75      0   \n",
      "4  9237-HQITU              0       2           70.70       151.65      1   \n",
      "\n",
      "   gender_Male  Partner_Yes  Dependents_Yes  PhoneService_Yes  ...  \\\n",
      "0        False         True           False             False  ...   \n",
      "1         True        False           False              True  ...   \n",
      "2         True        False           False              True  ...   \n",
      "3         True        False           False             False  ...   \n",
      "4        False        False           False              True  ...   \n",
      "\n",
      "   StreamingTV_No internet service  StreamingTV_Yes  \\\n",
      "0                            False            False   \n",
      "1                            False            False   \n",
      "2                            False            False   \n",
      "3                            False            False   \n",
      "4                            False            False   \n",
      "\n",
      "   StreamingMovies_No internet service  StreamingMovies_Yes  \\\n",
      "0                                False                False   \n",
      "1                                False                False   \n",
      "2                                False                False   \n",
      "3                                False                False   \n",
      "4                                False                False   \n",
      "\n",
      "   Contract_One year  Contract_Two year  PaperlessBilling_Yes  \\\n",
      "0              False              False                  True   \n",
      "1               True              False                 False   \n",
      "2              False              False                  True   \n",
      "3               True              False                 False   \n",
      "4              False              False                  True   \n",
      "\n",
      "   PaymentMethod_Credit card (automatic)  PaymentMethod_Electronic check  \\\n",
      "0                                  False                            True   \n",
      "1                                  False                           False   \n",
      "2                                  False                           False   \n",
      "3                                  False                           False   \n",
      "4                                  False                            True   \n",
      "\n",
      "   PaymentMethod_Mailed check  \n",
      "0                       False  \n",
      "1                        True  \n",
      "2                        True  \n",
      "3                       False  \n",
      "4                       False  \n",
      "\n",
      "[5 rows x 32 columns]\n"
     ]
    }
   ],
   "source": [
    "import pandas as pd\n",
    "\n",
    "# 1. خواندن داده\n",
    "df = pd.read_csv('data_modified.csv')\n",
    "\n",
    "# 2. نمایش ستون‌ها برای اطمینان (اختیاری)\n",
    "print(\"📋 ستون‌های دیتافریم:\")\n",
    "print(df.columns.tolist())\n",
    "\n",
    "# 3. اعمال One-Hot Encoding\n",
    "df_encoded = pd.get_dummies(df, columns=[\n",
    "    'gender', 'Partner', 'Dependents', 'PhoneService', 'MultipleLines',\n",
    "    'InternetService', 'OnlineSecurity', 'OnlineBackup', 'DeviceProtection',\n",
    "    'TechSupport', 'StreamingTV', 'StreamingMovies', 'Contract',\n",
    "    'PaperlessBilling', 'PaymentMethod'\n",
    "], drop_first=True)\n",
    "\n",
    "# 4. نمایش نمونه‌ای از داده‌ها بعد از encoding\n",
    "print(\"✅ داده‌های تبدیل‌شده:\")\n",
    "print(df_encoded.head())\n",
    "\n",
    "# 5. (اختیاری) ذخیره داده جدید برای بررسی یا استفاده بعدی\n",
    "df_encoded.to_csv('data_modified.csv', index=False)\n"
   ]
  },
  {
   "cell_type": "code",
   "execution_count": 9,
   "id": "a8076d67-0b75-4eef-980f-49268feff515",
   "metadata": {},
   "outputs": [
    {
     "name": "stdout",
     "output_type": "stream",
     "text": [
      "Requirement already satisfied: scikit-learn in c:\\users\\fakba\\anaconda3\\envs\\dynamicpricing\\lib\\site-packages (1.7.0)\n",
      "Requirement already satisfied: numpy>=1.22.0 in c:\\users\\fakba\\anaconda3\\envs\\dynamicpricing\\lib\\site-packages (from scikit-learn) (2.2.0)\n",
      "Requirement already satisfied: scipy>=1.8.0 in c:\\users\\fakba\\anaconda3\\envs\\dynamicpricing\\lib\\site-packages (from scikit-learn) (1.15.3)\n",
      "Requirement already satisfied: joblib>=1.2.0 in c:\\users\\fakba\\anaconda3\\envs\\dynamicpricing\\lib\\site-packages (from scikit-learn) (1.5.1)\n",
      "Requirement already satisfied: threadpoolctl>=3.1.0 in c:\\users\\fakba\\anaconda3\\envs\\dynamicpricing\\lib\\site-packages (from scikit-learn) (3.6.0)\n"
     ]
    }
   ],
   "source": [
    "!pip install scikit-learn"
   ]
  },
  {
   "cell_type": "code",
   "execution_count": 14,
   "id": "e99ee21b-5380-4d62-a952-34f9c03d857a",
   "metadata": {},
   "outputs": [
    {
     "name": "stdout",
     "output_type": "stream",
     "text": [
      "Data type before: float64\n",
      "🚫 مقادیر غیرعددی در TotalCharges:\n",
      "Empty DataFrame\n",
      "Columns: [TotalCharges]\n",
      "Index: []\n",
      "\n",
      "🔢 تعداد مقادیر نامعتبر: 0\n",
      "\n",
      "✅ تعداد ردیف‌های باقی‌مانده: 7032\n",
      "نوع ستون TotalCharges بعد از تبدیل: float64\n"
     ]
    }
   ],
   "source": [
    "import pandas as pd\n",
    "\n",
    "# 1. خواندن فایل\n",
    "df = pd.read_csv('data_modified.csv')\n",
    "\n",
    "# 2. بررسی اولیه نوع ستون\n",
    "print(\"Data type before:\", df['TotalCharges'].dtype)\n",
    "\n",
    "# 3. تبدیل به عدد، مقادیر نامعتبر را NaN می‌کند\n",
    "df['TotalCharges_clean'] = pd.to_numeric(df['TotalCharges'], errors='coerce')\n",
    "\n",
    "# 4. شناسایی مقادیری که قابل تبدیل به عدد نیستند\n",
    "non_numeric = df[df['TotalCharges_clean'].isna()]\n",
    "print(\"🚫 مقادیر غیرعددی در TotalCharges:\")\n",
    "print(non_numeric[['TotalCharges']])\n",
    "\n",
    "# 5. تعداد مقادیر نامعتبر\n",
    "print(f\"\\n🔢 تعداد مقادیر نامعتبر: {non_numeric.shape[0]}\")\n",
    "\n",
    "# 6. حذف ردیف‌های دارای TotalCharges نامعتبر\n",
    "df_cleaned = df.dropna(subset=['TotalCharges_clean'])\n",
    "\n",
    "# 7. جایگزینی ستون TotalCharges با نسخه پاک‌سازی‌شده\n",
    "df_cleaned['TotalCharges'] = df_cleaned['TotalCharges_clean']\n",
    "df_cleaned = df_cleaned.drop(columns=['TotalCharges_clean'])\n",
    "\n",
    "# 8. بررسی نهایی\n",
    "print(\"\\n✅ تعداد ردیف‌های باقی‌مانده:\", df_cleaned.shape[0])\n",
    "print(\"نوع ستون TotalCharges بعد از تبدیل:\", df_cleaned['TotalCharges'].dtype)\n",
    "\n",
    "# 9. (اختیاری) ذخیره فایل تمیزشده برای مراحل بعدی\n",
    "df_cleaned.to_csv('data_modified_clean_totalcharge.csv', index=False)\n"
   ]
  },
  {
   "cell_type": "code",
   "execution_count": 15,
   "id": "d0d1d1f7-e492-4d49-a9bf-b75e58be92f4",
   "metadata": {},
   "outputs": [],
   "source": [
    "df['TotalCharges'] = pd.to_numeric(df['TotalCharges'], errors='coerce')\n"
   ]
  },
  {
   "cell_type": "code",
   "execution_count": 16,
   "id": "0eeb9447-4180-4c7d-a98b-05161b125f11",
   "metadata": {},
   "outputs": [
    {
     "name": "stdout",
     "output_type": "stream",
     "text": [
      "0\n"
     ]
    }
   ],
   "source": [
    "print(df['TotalCharges'].isna().sum())\n"
   ]
  },
  {
   "cell_type": "code",
   "execution_count": 14,
   "id": "880ce7d3-75a2-4ce6-a4ce-4052c2a40900",
   "metadata": {},
   "outputs": [],
   "source": [
    "from sklearn.preprocessing import StandardScaler\n",
    "\n",
    "scaler = StandardScaler()\n",
    "df[['tenure', 'MonthlyCharges', 'TotalCharges']] = scaler.fit_transform(df[['tenure', 'MonthlyCharges', 'TotalCharges']])\n"
   ]
  },
  {
   "cell_type": "code",
   "execution_count": 15,
   "id": "e138356a-2153-4311-b84f-70d28dcfdc62",
   "metadata": {},
   "outputs": [
    {
     "name": "stdout",
     "output_type": "stream",
     "text": [
      "   customerID  SeniorCitizen    tenure  MonthlyCharges  TotalCharges  Churn  \\\n",
      "0  7590-VHVEG              0 -1.280248       -1.161694     -0.994194      0   \n",
      "1  5575-GNVDE              0  0.064303       -0.260878     -0.173740      0   \n",
      "2  3668-QPYBK              0 -1.239504       -0.363923     -0.959649      1   \n",
      "3  7795-CFOCW              0  0.512486       -0.747850     -0.195248      0   \n",
      "4  9237-HQITU              0 -1.239504        0.196178     -0.940457      1   \n",
      "\n",
      "   gender_Male  Partner_Yes  Dependents_Yes  PhoneService_Yes  ...  \\\n",
      "0        False         True           False             False  ...   \n",
      "1         True        False           False              True  ...   \n",
      "2         True        False           False              True  ...   \n",
      "3         True        False           False             False  ...   \n",
      "4        False        False           False              True  ...   \n",
      "\n",
      "   StreamingTV_Yes  StreamingMovies_No internet service  StreamingMovies_Yes  \\\n",
      "0            False                                False                False   \n",
      "1            False                                False                False   \n",
      "2            False                                False                False   \n",
      "3            False                                False                False   \n",
      "4            False                                False                False   \n",
      "\n",
      "   Contract_One year  Contract_Two year  PaperlessBilling_Yes  \\\n",
      "0              False              False                  True   \n",
      "1               True              False                 False   \n",
      "2              False              False                  True   \n",
      "3               True              False                 False   \n",
      "4              False              False                  True   \n",
      "\n",
      "   PaymentMethod_Credit card (automatic)  PaymentMethod_Electronic check  \\\n",
      "0                                  False                            True   \n",
      "1                                  False                           False   \n",
      "2                                  False                           False   \n",
      "3                                  False                           False   \n",
      "4                                  False                            True   \n",
      "\n",
      "   PaymentMethod_Mailed check  TotalCharges_clean  \n",
      "0                       False               29.85  \n",
      "1                        True             1889.50  \n",
      "2                        True              108.15  \n",
      "3                       False             1840.75  \n",
      "4                       False              151.65  \n",
      "\n",
      "[5 rows x 33 columns]\n"
     ]
    }
   ],
   "source": [
    "print(df.head())"
   ]
  },
  {
   "cell_type": "code",
   "execution_count": 20,
   "id": "0fcce1d9-c86e-40d3-ba9c-2773fb69a84a",
   "metadata": {},
   "outputs": [
    {
     "name": "stdout",
     "output_type": "stream",
     "text": [
      "Requirement already satisfied: seaborn in c:\\users\\fakba\\anaconda3\\envs\\dynamicpricing\\lib\\site-packages (0.13.2)\n",
      "Requirement already satisfied: numpy!=1.24.0,>=1.20 in c:\\users\\fakba\\anaconda3\\envs\\dynamicpricing\\lib\\site-packages (from seaborn) (2.2.0)\n",
      "Requirement already satisfied: pandas>=1.2 in c:\\users\\fakba\\anaconda3\\envs\\dynamicpricing\\lib\\site-packages (from seaborn) (2.3.0)\n",
      "Requirement already satisfied: matplotlib!=3.6.1,>=3.4 in c:\\users\\fakba\\anaconda3\\envs\\dynamicpricing\\lib\\site-packages (from seaborn) (3.10.3)\n",
      "Requirement already satisfied: contourpy>=1.0.1 in c:\\users\\fakba\\anaconda3\\envs\\dynamicpricing\\lib\\site-packages (from matplotlib!=3.6.1,>=3.4->seaborn) (1.3.2)\n",
      "Requirement already satisfied: cycler>=0.10 in c:\\users\\fakba\\anaconda3\\envs\\dynamicpricing\\lib\\site-packages (from matplotlib!=3.6.1,>=3.4->seaborn) (0.12.1)\n",
      "Requirement already satisfied: fonttools>=4.22.0 in c:\\users\\fakba\\anaconda3\\envs\\dynamicpricing\\lib\\site-packages (from matplotlib!=3.6.1,>=3.4->seaborn) (4.58.4)\n",
      "Requirement already satisfied: kiwisolver>=1.3.1 in c:\\users\\fakba\\anaconda3\\envs\\dynamicpricing\\lib\\site-packages (from matplotlib!=3.6.1,>=3.4->seaborn) (1.4.8)\n",
      "Requirement already satisfied: packaging>=20.0 in c:\\users\\fakba\\anaconda3\\envs\\dynamicpricing\\lib\\site-packages (from matplotlib!=3.6.1,>=3.4->seaborn) (24.2)\n",
      "Requirement already satisfied: pillow>=8 in c:\\users\\fakba\\anaconda3\\envs\\dynamicpricing\\lib\\site-packages (from matplotlib!=3.6.1,>=3.4->seaborn) (11.2.1)\n",
      "Requirement already satisfied: pyparsing>=2.3.1 in c:\\users\\fakba\\anaconda3\\envs\\dynamicpricing\\lib\\site-packages (from matplotlib!=3.6.1,>=3.4->seaborn) (3.2.3)\n",
      "Requirement already satisfied: python-dateutil>=2.7 in c:\\users\\fakba\\anaconda3\\envs\\dynamicpricing\\lib\\site-packages (from matplotlib!=3.6.1,>=3.4->seaborn) (2.9.0.post0)\n",
      "Requirement already satisfied: pytz>=2020.1 in c:\\users\\fakba\\anaconda3\\envs\\dynamicpricing\\lib\\site-packages (from pandas>=1.2->seaborn) (2025.2)\n",
      "Requirement already satisfied: tzdata>=2022.7 in c:\\users\\fakba\\anaconda3\\envs\\dynamicpricing\\lib\\site-packages (from pandas>=1.2->seaborn) (2025.2)\n",
      "Requirement already satisfied: six>=1.5 in c:\\users\\fakba\\anaconda3\\envs\\dynamicpricing\\lib\\site-packages (from python-dateutil>=2.7->matplotlib!=3.6.1,>=3.4->seaborn) (1.17.0)\n"
     ]
    }
   ],
   "source": [
    "!pip install seaborn\n"
   ]
  },
  {
   "cell_type": "code",
   "execution_count": 21,
   "id": "1f46600d-5d4a-4738-bd65-f3be81d1f7e0",
   "metadata": {},
   "outputs": [
    {
     "ename": "ValueError",
     "evalue": "could not convert string to float: ' '",
     "output_type": "error",
     "traceback": [
      "\u001b[1;31m---------------------------------------------------------------------------\u001b[0m",
      "\u001b[1;31mValueError\u001b[0m                                Traceback (most recent call last)",
      "Cell \u001b[1;32mIn[21], line 5\u001b[0m\n\u001b[0;32m      2\u001b[0m \u001b[38;5;28;01mimport\u001b[39;00m\u001b[38;5;250m \u001b[39m\u001b[38;5;21;01mmatplotlib\u001b[39;00m\u001b[38;5;21;01m.\u001b[39;00m\u001b[38;5;21;01mpyplot\u001b[39;00m\u001b[38;5;250m \u001b[39m\u001b[38;5;28;01mas\u001b[39;00m\u001b[38;5;250m \u001b[39m\u001b[38;5;21;01mplt\u001b[39;00m\n\u001b[0;32m      4\u001b[0m \u001b[38;5;66;03m# ماتریس همبستگی فقط برای ستون‌های عددی\u001b[39;00m\n\u001b[1;32m----> 5\u001b[0m corr_matrix \u001b[38;5;241m=\u001b[39m df[[\u001b[38;5;124m'\u001b[39m\u001b[38;5;124mtenure\u001b[39m\u001b[38;5;124m'\u001b[39m, \u001b[38;5;124m'\u001b[39m\u001b[38;5;124mMonthlyCharges\u001b[39m\u001b[38;5;124m'\u001b[39m, \u001b[38;5;124m'\u001b[39m\u001b[38;5;124mTotalCharges\u001b[39m\u001b[38;5;124m'\u001b[39m]]\u001b[38;5;241m.\u001b[39mcorr()\n\u001b[0;32m      7\u001b[0m \u001b[38;5;66;03m# نمایش heatmap همبستگی\u001b[39;00m\n\u001b[0;32m      8\u001b[0m plt\u001b[38;5;241m.\u001b[39mfigure(figsize\u001b[38;5;241m=\u001b[39m(\u001b[38;5;241m6\u001b[39m,\u001b[38;5;241m4\u001b[39m))\n",
      "File \u001b[1;32m~\\anaconda3\\envs\\dynamicpricing\\Lib\\site-packages\\pandas\\core\\frame.py:11056\u001b[0m, in \u001b[0;36mDataFrame.corr\u001b[1;34m(self, method, min_periods, numeric_only)\u001b[0m\n\u001b[0;32m  11054\u001b[0m cols \u001b[38;5;241m=\u001b[39m data\u001b[38;5;241m.\u001b[39mcolumns\n\u001b[0;32m  11055\u001b[0m idx \u001b[38;5;241m=\u001b[39m cols\u001b[38;5;241m.\u001b[39mcopy()\n\u001b[1;32m> 11056\u001b[0m mat \u001b[38;5;241m=\u001b[39m data\u001b[38;5;241m.\u001b[39mto_numpy(dtype\u001b[38;5;241m=\u001b[39m\u001b[38;5;28mfloat\u001b[39m, na_value\u001b[38;5;241m=\u001b[39mnp\u001b[38;5;241m.\u001b[39mnan, copy\u001b[38;5;241m=\u001b[39m\u001b[38;5;28;01mFalse\u001b[39;00m)\n\u001b[0;32m  11058\u001b[0m \u001b[38;5;28;01mif\u001b[39;00m method \u001b[38;5;241m==\u001b[39m \u001b[38;5;124m\"\u001b[39m\u001b[38;5;124mpearson\u001b[39m\u001b[38;5;124m\"\u001b[39m:\n\u001b[0;32m  11059\u001b[0m     correl \u001b[38;5;241m=\u001b[39m libalgos\u001b[38;5;241m.\u001b[39mnancorr(mat, minp\u001b[38;5;241m=\u001b[39mmin_periods)\n",
      "File \u001b[1;32m~\\anaconda3\\envs\\dynamicpricing\\Lib\\site-packages\\pandas\\core\\frame.py:1998\u001b[0m, in \u001b[0;36mDataFrame.to_numpy\u001b[1;34m(self, dtype, copy, na_value)\u001b[0m\n\u001b[0;32m   1996\u001b[0m \u001b[38;5;28;01mif\u001b[39;00m dtype \u001b[38;5;129;01mis\u001b[39;00m \u001b[38;5;129;01mnot\u001b[39;00m \u001b[38;5;28;01mNone\u001b[39;00m:\n\u001b[0;32m   1997\u001b[0m     dtype \u001b[38;5;241m=\u001b[39m np\u001b[38;5;241m.\u001b[39mdtype(dtype)\n\u001b[1;32m-> 1998\u001b[0m result \u001b[38;5;241m=\u001b[39m \u001b[38;5;28mself\u001b[39m\u001b[38;5;241m.\u001b[39m_mgr\u001b[38;5;241m.\u001b[39mas_array(dtype\u001b[38;5;241m=\u001b[39mdtype, copy\u001b[38;5;241m=\u001b[39mcopy, na_value\u001b[38;5;241m=\u001b[39mna_value)\n\u001b[0;32m   1999\u001b[0m \u001b[38;5;28;01mif\u001b[39;00m result\u001b[38;5;241m.\u001b[39mdtype \u001b[38;5;129;01mis\u001b[39;00m \u001b[38;5;129;01mnot\u001b[39;00m dtype:\n\u001b[0;32m   2000\u001b[0m     result \u001b[38;5;241m=\u001b[39m np\u001b[38;5;241m.\u001b[39masarray(result, dtype\u001b[38;5;241m=\u001b[39mdtype)\n",
      "File \u001b[1;32m~\\anaconda3\\envs\\dynamicpricing\\Lib\\site-packages\\pandas\\core\\internals\\managers.py:1694\u001b[0m, in \u001b[0;36mBlockManager.as_array\u001b[1;34m(self, dtype, copy, na_value)\u001b[0m\n\u001b[0;32m   1692\u001b[0m         arr\u001b[38;5;241m.\u001b[39mflags\u001b[38;5;241m.\u001b[39mwriteable \u001b[38;5;241m=\u001b[39m \u001b[38;5;28;01mFalse\u001b[39;00m\n\u001b[0;32m   1693\u001b[0m \u001b[38;5;28;01melse\u001b[39;00m:\n\u001b[1;32m-> 1694\u001b[0m     arr \u001b[38;5;241m=\u001b[39m \u001b[38;5;28mself\u001b[39m\u001b[38;5;241m.\u001b[39m_interleave(dtype\u001b[38;5;241m=\u001b[39mdtype, na_value\u001b[38;5;241m=\u001b[39mna_value)\n\u001b[0;32m   1695\u001b[0m     \u001b[38;5;66;03m# The underlying data was copied within _interleave, so no need\u001b[39;00m\n\u001b[0;32m   1696\u001b[0m     \u001b[38;5;66;03m# to further copy if copy=True or setting na_value\u001b[39;00m\n\u001b[0;32m   1698\u001b[0m \u001b[38;5;28;01mif\u001b[39;00m na_value \u001b[38;5;129;01mis\u001b[39;00m lib\u001b[38;5;241m.\u001b[39mno_default:\n",
      "File \u001b[1;32m~\\anaconda3\\envs\\dynamicpricing\\Lib\\site-packages\\pandas\\core\\internals\\managers.py:1753\u001b[0m, in \u001b[0;36mBlockManager._interleave\u001b[1;34m(self, dtype, na_value)\u001b[0m\n\u001b[0;32m   1751\u001b[0m     \u001b[38;5;28;01melse\u001b[39;00m:\n\u001b[0;32m   1752\u001b[0m         arr \u001b[38;5;241m=\u001b[39m blk\u001b[38;5;241m.\u001b[39mget_values(dtype)\n\u001b[1;32m-> 1753\u001b[0m     result[rl\u001b[38;5;241m.\u001b[39mindexer] \u001b[38;5;241m=\u001b[39m arr\n\u001b[0;32m   1754\u001b[0m     itemmask[rl\u001b[38;5;241m.\u001b[39mindexer] \u001b[38;5;241m=\u001b[39m \u001b[38;5;241m1\u001b[39m\n\u001b[0;32m   1756\u001b[0m \u001b[38;5;28;01mif\u001b[39;00m \u001b[38;5;129;01mnot\u001b[39;00m itemmask\u001b[38;5;241m.\u001b[39mall():\n",
      "\u001b[1;31mValueError\u001b[0m: could not convert string to float: ' '"
     ]
    }
   ],
   "source": [
    "import seaborn as sns\n",
    "import matplotlib.pyplot as plt\n",
    "\n",
    "# ماتریس همبستگی فقط برای ستون‌های عددی\n",
    "corr_matrix = df[['tenure', 'MonthlyCharges', 'TotalCharges']].corr()\n",
    "\n",
    "# نمایش heatmap همبستگی\n",
    "plt.figure(figsize=(6,4))\n",
    "sns.heatmap(corr_matrix, annot=True, cmap='coolwarm')\n",
    "plt.title('Correlation Matrix for Numeric Features')\n",
    "plt.show()\n"
   ]
  },
  {
   "cell_type": "code",
   "execution_count": null,
   "id": "59989ad8-3be6-48b0-94b1-6294d56c4124",
   "metadata": {},
   "outputs": [],
   "source": [
    "df = pd.read_csv(\"WA_Fn-UseC_-Telco-Customer-Churn.csv\")\n",
    "df_original = pd.read_csv(\"WA_Fn-UseC_-Telco-Customer-Churn.csv\")"
   ]
  },
  {
   "cell_type": "code",
   "execution_count": null,
   "id": "aab9bed4-2b65-4260-8e21-f2d7633a3f66",
   "metadata": {},
   "outputs": [],
   "source": [
    "plt.figure(figsize=(8,5))\n",
    "sns.boxplot(x='Contract', y='MonthlyCharges', data=df_original)  # df_original دیتاست بدون تبدیل به one-hot\n",
    "plt.title('Monthly Charges by Contract Type')\n",
    "plt.show()\n"
   ]
  },
  {
   "cell_type": "code",
   "execution_count": 22,
   "id": "e9a58cdc-6a33-4a1f-bc11-e2deec9bff01",
   "metadata": {},
   "outputs": [
    {
     "name": "stdout",
     "output_type": "stream",
     "text": [
      "ANOVA F-statistic: 20.828, p-value: 0.000\n"
     ]
    }
   ],
   "source": [
    "from scipy.stats import f_oneway\n",
    "\n",
    "# جدا کردن داده‌ها بر اساس دسته‌بندی\n",
    "grouped = [group['MonthlyCharges'].values for name, group in df_original.groupby('Contract')]\n",
    "\n",
    "# انجام آزمون ANOVA\n",
    "f_stat, p_value = f_oneway(*grouped)\n",
    "\n",
    "print(f\"ANOVA F-statistic: {f_stat:.3f}, p-value: {p_value:.3f}\")\n"
   ]
  },
  {
   "cell_type": "code",
   "execution_count": 23,
   "id": "7dcf5578-80c2-475c-862c-66a8ab5ff7b2",
   "metadata": {},
   "outputs": [
    {
     "name": "stdout",
     "output_type": "stream",
     "text": [
      "Coefficient for tenure: 0.304\n",
      "Intercept: 54.930\n"
     ]
    }
   ],
   "source": [
    "from sklearn.linear_model import LinearRegression\n",
    "import numpy as np\n",
    "\n",
    "X = df[['tenure']]  # ویژگی مستقل\n",
    "y = df['MonthlyCharges']  # متغیر هدف\n",
    "\n",
    "model = LinearRegression()\n",
    "model.fit(X, y)\n",
    "\n",
    "print(f\"Coefficient for tenure: {model.coef_[0]:.3f}\")\n",
    "print(f\"Intercept: {model.intercept_:.3f}\")\n"
   ]
  },
  {
   "cell_type": "code",
   "execution_count": 18,
   "id": "cdb15b02-0125-4236-aba0-122e426b16a5",
   "metadata": {},
   "outputs": [
    {
     "name": "stdout",
     "output_type": "stream",
     "text": [
      "ستون‌های باقی‌مانده بعد از حذف:\n",
      "['SeniorCitizen', 'tenure', 'MonthlyCharges', 'Churn', 'gender_Male', 'Partner_Yes', 'Dependents_Yes', 'PhoneService_Yes', 'MultipleLines_No phone service', 'MultipleLines_Yes', 'InternetService_Fiber optic', 'InternetService_No', 'OnlineSecurity_No internet service', 'OnlineSecurity_Yes', 'OnlineBackup_No internet service', 'OnlineBackup_Yes', 'DeviceProtection_No internet service', 'DeviceProtection_Yes', 'TechSupport_No internet service', 'TechSupport_Yes', 'StreamingTV_No internet service', 'StreamingTV_Yes', 'StreamingMovies_No internet service', 'StreamingMovies_Yes', 'Contract_One year', 'Contract_Two year', 'PaperlessBilling_Yes', 'PaymentMethod_Credit card (automatic)', 'PaymentMethod_Electronic check', 'PaymentMethod_Mailed check']\n",
      "\n",
      "ستون‌های نهایی پس از one-hot encoding:\n",
      "['SeniorCitizen', 'tenure', 'Churn', 'gender_Male', 'Partner_Yes', 'Dependents_Yes', 'PhoneService_Yes', 'MultipleLines_No phone service', 'MultipleLines_Yes', 'InternetService_Fiber optic', 'InternetService_No', 'OnlineSecurity_No internet service', 'OnlineSecurity_Yes', 'OnlineBackup_No internet service', 'OnlineBackup_Yes', 'DeviceProtection_No internet service', 'DeviceProtection_Yes', 'TechSupport_No internet service', 'TechSupport_Yes', 'StreamingTV_No internet service', 'StreamingTV_Yes', 'StreamingMovies_No internet service', 'StreamingMovies_Yes', 'Contract_One year', 'Contract_Two year', 'PaperlessBilling_Yes', 'PaymentMethod_Credit card (automatic)', 'PaymentMethod_Electronic check', 'PaymentMethod_Mailed check']\n",
      "\n",
      "ستون‌هایی که حاوی 'customerID' هستند:\n",
      "[]\n"
     ]
    }
   ],
   "source": [
    "import pandas as pd\n",
    "\n",
    "# 1. بارگذاری داده از فایل CSV\n",
    "df = pd.read_csv('data_modified.csv')\n",
    "\n",
    "# 2. حذف ستون‌های غیرضروری و ذخیره در df_model\n",
    "df_model = df.drop(['customerID', 'TotalCharges'], axis=1, errors='ignore')\n",
    "\n",
    "# 3. چاپ ستون‌ها بعد از حذف برای اطمینان\n",
    "print(\"ستون‌های باقی‌مانده بعد از حذف:\")\n",
    "print(df_model.columns.tolist())\n",
    "\n",
    "# 4. جدا کردن متغیر هدف (y) و ویژگی‌ها (X)\n",
    "y = df_model['MonthlyCharges']\n",
    "X = df_model.drop('MonthlyCharges', axis=1)\n",
    "\n",
    "# 5. انجام One-Hot Encoding روی ویژگی‌های غیرعددی\n",
    "X_encoded = pd.get_dummies(X, drop_first=True)\n",
    "\n",
    "# 6. نمایش ستون‌های نهایی بعد از encoding برای اطمینان\n",
    "print(\"\\nستون‌های نهایی پس از one-hot encoding:\")\n",
    "print(X_encoded.columns.tolist())\n",
    "\n",
    "# 7. چک کردن اینکه آیا ستون customerID در هیچ مرحله‌ای وجود دارد\n",
    "print(\"\\nستون‌هایی که حاوی 'customerID' هستند:\")\n",
    "print([col for col in X_encoded.columns if 'customerID' in col])\n"
   ]
  },
  {
   "cell_type": "code",
   "execution_count": 19,
   "id": "782ab5ed-a681-4f61-a096-793f4c16da9d",
   "metadata": {},
   "outputs": [],
   "source": [
    "import pandas as pd\n",
    "# ذخیره دیتافریم اصلاح شده در فایل جدید یا جایگزین فایل قبلی\n",
    "df_model.to_csv('data_modified.csv', index=False)\n"
   ]
  },
  {
   "cell_type": "code",
   "execution_count": 20,
   "id": "8cbd4a89-ce63-4c97-8085-eb2edd2c7434",
   "metadata": {},
   "outputs": [
    {
     "name": "stdout",
     "output_type": "stream",
     "text": [
      "Index(['SeniorCitizen', 'tenure', 'MonthlyCharges', 'Churn', 'gender_Male',\n",
      "       'Partner_Yes', 'Dependents_Yes', 'PhoneService_Yes',\n",
      "       'MultipleLines_No phone service', 'MultipleLines_Yes',\n",
      "       'InternetService_Fiber optic', 'InternetService_No',\n",
      "       'OnlineSecurity_No internet service', 'OnlineSecurity_Yes',\n",
      "       'OnlineBackup_No internet service', 'OnlineBackup_Yes',\n",
      "       'DeviceProtection_No internet service', 'DeviceProtection_Yes',\n",
      "       'TechSupport_No internet service', 'TechSupport_Yes',\n",
      "       'StreamingTV_No internet service', 'StreamingTV_Yes',\n",
      "       'StreamingMovies_No internet service', 'StreamingMovies_Yes',\n",
      "       'Contract_One year', 'Contract_Two year', 'PaperlessBilling_Yes',\n",
      "       'PaymentMethod_Credit card (automatic)',\n",
      "       'PaymentMethod_Electronic check', 'PaymentMethod_Mailed check'],\n",
      "      dtype='object')\n"
     ]
    }
   ],
   "source": [
    "print(df_model.columns)\n"
   ]
  },
  {
   "cell_type": "code",
   "execution_count": 22,
   "id": "4c09b5fa-0f95-4bfd-a4ad-94e2ae958fb5",
   "metadata": {},
   "outputs": [],
   "source": [
    "from sklearn.model_selection import train_test_split\n",
    "\n",
    "X_train, X_test, y_train, y_test = train_test_split(X_encoded, y, test_size=0.2, random_state=42)\n"
   ]
  },
  {
   "cell_type": "code",
   "execution_count": 23,
   "id": "8b305ec0-adf9-4e2d-8597-60aa382dbaeb",
   "metadata": {},
   "outputs": [
    {
     "name": "stdout",
     "output_type": "stream",
     "text": [
      "Linear Regression R² score: 0.999\n",
      "Linear Regression RMSE: 1.04\n"
     ]
    }
   ],
   "source": [
    "from sklearn.linear_model import LinearRegression\n",
    "from sklearn.metrics import mean_squared_error, r2_score\n",
    "import numpy as np\n",
    "\n",
    "# مدل رگرسیون خطی\n",
    "lr = LinearRegression()\n",
    "lr.fit(X_train, y_train)\n",
    "\n",
    "# پیش‌بینی\n",
    "y_pred_lr = lr.predict(X_test)\n",
    "\n",
    "# ارزیابی مدل\n",
    "r2 = r2_score(y_test, y_pred_lr)\n",
    "rmse = np.sqrt(mean_squared_error(y_test, y_pred_lr))\n",
    "\n",
    "print(f\"Linear Regression R² score: {r2:.3f}\")\n",
    "print(f\"Linear Regression RMSE: {rmse:.2f}\")\n"
   ]
  },
  {
   "cell_type": "code",
   "execution_count": 24,
   "id": "38455dc2-59a1-49d9-bcc5-aa5b7d83f1c5",
   "metadata": {},
   "outputs": [
    {
     "name": "stdout",
     "output_type": "stream",
     "text": [
      "Random Forest R² score: 0.998\n",
      "Random Forest RMSE: 1.27\n"
     ]
    }
   ],
   "source": [
    "from sklearn.ensemble import RandomForestRegressor\n",
    "from sklearn.metrics import mean_squared_error, r2_score\n",
    "import numpy as np\n",
    "\n",
    "# ساخت مدل\n",
    "rf = RandomForestRegressor(n_estimators=100, random_state=42)\n",
    "\n",
    "# آموزش مدل روی داده‌های آموزشی\n",
    "rf.fit(X_train, y_train)\n",
    "\n",
    "# پیش‌بینی روی داده‌های تست\n",
    "y_pred_rf = rf.predict(X_test)\n",
    "\n",
    "# ارزیابی مدل\n",
    "print(f\"Random Forest R² score: {r2_score(y_test, y_pred_rf):.3f}\")\n",
    "rmse = np.sqrt(mean_squared_error(y_test, y_pred_rf))\n",
    "print(f\"Random Forest RMSE: {rmse:.2f}\")\n"
   ]
  },
  {
   "cell_type": "code",
   "execution_count": 25,
   "id": "b72ac532-c8e4-4f09-bce9-5e40d41c1fb9",
   "metadata": {},
   "outputs": [
    {
     "name": "stdout",
     "output_type": "stream",
     "text": [
      "Requirement already satisfied: xgboost in c:\\users\\fakba\\anaconda3\\envs\\dynamicpricing\\lib\\site-packages (3.0.2)\n",
      "Requirement already satisfied: numpy in c:\\users\\fakba\\anaconda3\\envs\\dynamicpricing\\lib\\site-packages (from xgboost) (2.2.0)\n",
      "Requirement already satisfied: scipy in c:\\users\\fakba\\anaconda3\\envs\\dynamicpricing\\lib\\site-packages (from xgboost) (1.15.3)\n"
     ]
    }
   ],
   "source": [
    "!pip install xgboost\n"
   ]
  },
  {
   "cell_type": "code",
   "execution_count": 26,
   "id": "fbae7bf5-b15d-43ad-981f-d823ac73bc29",
   "metadata": {},
   "outputs": [
    {
     "name": "stdout",
     "output_type": "stream",
     "text": [
      "XGBoost R² score: 0.999\n",
      "XGBoost RMSE: 1.10\n"
     ]
    }
   ],
   "source": [
    "import xgboost as xgb\n",
    "from sklearn.metrics import r2_score, mean_squared_error\n",
    "\n",
    "xgb_model = xgb.XGBRegressor(\n",
    "    objective='reg:squarederror',  # تابع هدف رگرسیون\n",
    "    n_estimators=100,              # تعداد درخت‌ها\n",
    "    learning_rate=0.1,             # نرخ یادگیری\n",
    "    max_depth=3,                   # عمق هر درخت\n",
    "    subsample=0.8,                 # درصد داده برای هر درخت\n",
    "    colsample_bytree=0.8,          # درصد ویژگی‌ها برای هر درخت\n",
    "    random_state=42\n",
    ")\n",
    "\n",
    "xgb_model.fit(X_train, y_train)\n",
    "y_pred_xgb = xgb_model.predict(X_test)\n",
    "\n",
    "# ارزیابی مدل\n",
    "print(f\"XGBoost R² score: {r2_score(y_test, y_pred_xgb):.3f}\")\n",
    "rmse = np.sqrt(mean_squared_error(y_test, y_pred_xgb))\n",
    "print(f\"XGBoost RMSE: {rmse:.2f}\")\n",
    "\n"
   ]
  },
  {
   "cell_type": "code",
   "execution_count": 27,
   "id": "5c4219f0-56aa-46ad-b41a-4ff1033ab944",
   "metadata": {},
   "outputs": [],
   "source": [
    "X_test = X_test.reindex(columns=X_train.columns, fill_value=0)\n"
   ]
  },
  {
   "cell_type": "code",
   "execution_count": 33,
   "id": "46645d4d-7b03-412e-9a98-ce5d27a4195a",
   "metadata": {},
   "outputs": [
    {
     "name": "stdout",
     "output_type": "stream",
     "text": [
      "Train RMSE: 0.87\n",
      "Test RMSE: 1.19\n"
     ]
    }
   ],
   "source": [
    "import pandas as pd\n",
    "import numpy as np\n",
    "from sklearn.model_selection import train_test_split\n",
    "from sklearn.metrics import mean_squared_error\n",
    "from xgboost import XGBRegressor\n",
    "\n",
    "# 1. خواندن داده\n",
    "df = pd.read_csv(\"WA_Fn-UseC_-Telco-Customer-Churn.csv\")\n",
    "\n",
    "# 2. تبدیل مقادیر غیرعددی به عددی\n",
    "df['TotalCharges'] = pd.to_numeric(df['TotalCharges'], errors='coerce')\n",
    "\n",
    "# 3. حذف مقادیر خالی\n",
    "df.dropna(inplace=True)\n",
    "\n",
    "# 4. وان‌هات‌انکودینگ برای ویژگی‌های متنی\n",
    "df = pd.get_dummies(df)\n",
    "\n",
    "# 5. جدا کردن ویژگی‌ها و هدف\n",
    "X = df.drop(\"MonthlyCharges\", axis=1)\n",
    "y = df[\"MonthlyCharges\"]\n",
    "\n",
    "# 6. تقسیم داده به آموزش و تست\n",
    "X_train, X_test, y_train, y_test = train_test_split(X, y, test_size=0.2, random_state=42)\n",
    "\n",
    "# 7. تعریف و آموزش مدل\n",
    "model = XGBRegressor()\n",
    "model.fit(X_train, y_train)\n",
    "\n",
    "# 8. پیش‌بینی\n",
    "y_train_pred = model.predict(X_train)\n",
    "y_test_pred = model.predict(X_test)\n",
    "\n",
    "# 9. محاسبه RMSE\n",
    "train_rmse = np.sqrt(mean_squared_error(y_train, y_train_pred))\n",
    "test_rmse = np.sqrt(mean_squared_error(y_test, y_test_pred))\n",
    "\n",
    "print(f\"Train RMSE: {train_rmse:.2f}\")\n",
    "print(f\"Test RMSE: {test_rmse:.2f}\")\n"
   ]
  },
  {
   "cell_type": "code",
   "execution_count": 35,
   "id": "7b4b0661-848a-4975-8b88-cdf2efad58bd",
   "metadata": {},
   "outputs": [
    {
     "name": "stdout",
     "output_type": "stream",
     "text": [
      "Train RMSE: 0.87\n",
      "Test RMSE: 1.19\n",
      "🟢 مدل تعادل خوبی دارد (Bias/Variance مناسب)\n"
     ]
    }
   ],
   "source": [
    "print(f\"Train RMSE: {train_rmse:.2f}\")\n",
    "print(f\"Test RMSE: {test_rmse:.2f}\")\n",
    "\n",
    "gap = test_rmse - train_rmse\n",
    "if gap > 10:\n",
    "    print(\"🔴 احتمالاً مدل Overfitting شده است (Variance بالا)\")\n",
    "elif gap < -10:\n",
    "    print(\"🟠 احتمالاً Underfitting داریم (Bias بالا)\")\n",
    "else:\n",
    "    print(\"🟢 مدل تعادل خوبی دارد (Bias/Variance مناسب)\")\n"
   ]
  },
  {
   "cell_type": "code",
   "execution_count": 77,
   "id": "74b61586-baf2-49a9-ad78-3c7d48c59609",
   "metadata": {},
   "outputs": [
    {
     "data": {
      "image/png": "[encoded data removed]",
      "text/plain": [
       "<Figure size 800x600 with 1 Axes>"
      ]
     },
     "metadata": {},
     "output_type": "display_data"
    }
   ],
   "source": [
    "import numpy as np\n",
    "from sklearn.model_selection import train_test_split\n",
    "from sklearn.metrics import mean_squared_error\n",
    "import matplotlib.pyplot as plt\n",
    "\n",
    "train_sizes = np.linspace(0.1, 0.999, 10)  # از ۱۰٪ تا ۹۹.۹٪ داده‌ها\n",
    "\n",
    "train_rmse = []\n",
    "test_rmse = []\n",
    "\n",
    "for train_size in train_sizes:\n",
    "    # تقسیم داده به زیرمجموعه‌های train با اندازه train_size و بقیه برای validation (test)\n",
    "    X_train_sub, X_val_sub, y_train_sub, y_val_sub = train_test_split(\n",
    "        X_train, y_train, train_size=train_size, random_state=42\n",
    "    )\n",
    "    \n",
    "    # آموزش مدل روی زیرمجموعه train\n",
    "    model.fit(X_train_sub, y_train_sub)\n",
    "    \n",
    "    # پیش‌بینی روی train و validation\n",
    "    y_train_pred = model.predict(X_train_sub)\n",
    "    y_val_pred = model.predict(X_val_sub)\n",
    "    \n",
    "    # محاسبه RMSE برای train و validation\n",
    "    train_rmse.append(np.sqrt(mean_squared_error(y_train_sub, y_train_pred)))\n",
    "    test_rmse.append(np.sqrt(mean_squared_error(y_val_sub, y_val_pred)))\n",
    "\n",
    "# رسم نمودار learning curve\n",
    "plt.figure(figsize=(8, 6))\n",
    "plt.plot(train_sizes, train_rmse, label=\"Train RMSE\", marker='o')\n",
    "plt.plot(train_sizes, test_rmse, label=\"Validation RMSE\", marker='o')\n",
    "plt.xlabel(\"Train Size Fraction\")\n",
    "plt.ylabel(\"RMSE\")\n",
    "plt.title(\"Learning Curve\")\n",
    "plt.legend()\n",
    "plt.grid(True)\n",
    "plt.show()\n"
   ]
  },
  {
   "cell_type": "code",
   "execution_count": 36,
   "id": "ca29442e-1cf3-4f0b-b4a1-41ab9069d241",
   "metadata": {},
   "outputs": [
    {
     "data": {
      "text/plain": [
       "Index(['SeniorCitizen', 'tenure', 'MonthlyCharges', 'TotalCharges',\n",
       "       'customerID_0002-ORFBO', 'customerID_0003-MKNFE',\n",
       "       'customerID_0004-TLHLJ', 'customerID_0011-IGKFF',\n",
       "       'customerID_0013-EXCHZ', 'customerID_0013-MHZWF',\n",
       "       ...\n",
       "       'Contract_One year', 'Contract_Two year', 'PaperlessBilling_No',\n",
       "       'PaperlessBilling_Yes', 'PaymentMethod_Bank transfer (automatic)',\n",
       "       'PaymentMethod_Credit card (automatic)',\n",
       "       'PaymentMethod_Electronic check', 'PaymentMethod_Mailed check',\n",
       "       'Churn_No', 'Churn_Yes'],\n",
       "      dtype='object', length=7079)"
      ]
     },
     "execution_count": 36,
     "metadata": {},
     "output_type": "execute_result"
    }
   ],
   "source": [
    "df.columns"
   ]
  },
  {
   "cell_type": "code",
   "execution_count": 28,
   "id": "8ae40d11-535b-4e03-a1ec-56624f1159b7",
   "metadata": {},
   "outputs": [
    {
     "name": "stdout",
     "output_type": "stream",
     "text": [
      "Model saved successfully!\n"
     ]
    }
   ],
   "source": [
    "import joblib\n",
    "from sklearn.model_selection import GridSearchCV\n",
    "from sklearn.ensemble import RandomForestRegressor\n",
    "\n",
    "# فرض کنیم X_train, y_train از قبل آماده‌ست\n",
    "\n",
    "# تعریف مدل پایه\n",
    "model = RandomForestRegressor(random_state=42)\n",
    "\n",
    "# شبکه پارامترها برای جستجوی شبکه‌ای\n",
    "param_grid = {\n",
    "    'n_estimators': [50, 100],\n",
    "    'max_depth': [None, 10, 20]\n",
    "}\n",
    "\n",
    "# تعریف GridSearchCV\n",
    "grid_search = GridSearchCV(model, param_grid, cv=5, scoring='neg_mean_squared_error')\n",
    "\n",
    "# آموزش مدل با داده‌های آموزشی\n",
    "grid_search.fit(X_train, y_train)\n",
    "\n",
    "# دریافت بهترین مدل پس از جستجو\n",
    "best_model = grid_search.best_estimator_\n",
    "\n",
    "# ذخیره بهترین مدل در فایل\n",
    "joblib.dump(best_model, 'best_model.pkl')\n",
    "print(\"Model saved successfully!\")\n",
    "\n",
    "# --- برای بارگذاری مدل ذخیره شده ---\n",
    "loaded_model = joblib.load('best_model.pkl')\n",
    "\n",
    "# استفاده از مدل بارگذاری شده برای پیش‌بینی\n",
    "y_pred = loaded_model.predict(X_test)\n"
   ]
  },
  {
   "cell_type": "code",
   "execution_count": 29,
   "id": "e610b913-51cf-47a6-91c2-535733ca579e",
   "metadata": {},
   "outputs": [
    {
     "data": {
      "text/plain": [
       "['model_columns.pkl']"
      ]
     },
     "execution_count": 29,
     "metadata": {},
     "output_type": "execute_result"
    }
   ],
   "source": [
    "import joblib\n",
    "\n",
    "model_columns = list(X_train.columns)  # یا داده‌هایی که مدل باهاش آموزش دیده\n",
    "joblib.dump(model_columns, 'model_columns.pkl')"
   ]
  },
  {
   "cell_type": "code",
   "execution_count": 33,
   "id": "fbb6323d-1d03-45d4-b89c-4130d8b01905",
   "metadata": {},
   "outputs": [
    {
     "name": "stdout",
     "output_type": "stream",
     "text": [
      "Requirement already satisfied: notebook in c:\\users\\fakba\\anaconda3\\envs\\dynamicpricing\\lib\\site-packages (7.3.2)\n",
      "Collecting notebook\n",
      "  Downloading notebook-7.4.3-py3-none-any.whl.metadata (10 kB)\n",
      "Requirement already satisfied: ipywidgets in c:\\users\\fakba\\anaconda3\\envs\\dynamicpricing\\lib\\site-packages (8.1.7)\n",
      "Requirement already satisfied: jupyter-server<3,>=2.4.0 in c:\\users\\fakba\\anaconda3\\envs\\dynamicpricing\\lib\\site-packages (from notebook) (2.15.0)\n",
      "Requirement already satisfied: jupyterlab-server<3,>=2.27.1 in c:\\users\\fakba\\anaconda3\\envs\\dynamicpricing\\lib\\site-packages (from notebook) (2.27.3)\n",
      "Collecting jupyterlab<4.5,>=4.4.3 (from notebook)\n",
      "  Downloading jupyterlab-4.4.3-py3-none-any.whl.metadata (16 kB)\n",
      "Requirement already satisfied: notebook-shim<0.3,>=0.2 in c:\\users\\fakba\\anaconda3\\envs\\dynamicpricing\\lib\\site-packages (from notebook) (0.2.4)\n",
      "Requirement already satisfied: tornado>=6.2.0 in c:\\users\\fakba\\anaconda3\\envs\\dynamicpricing\\lib\\site-packages (from notebook) (6.5.1)\n",
      "Requirement already satisfied: anyio>=3.1.0 in c:\\users\\fakba\\anaconda3\\envs\\dynamicpricing\\lib\\site-packages (from jupyter-server<3,>=2.4.0->notebook) (4.7.0)\n",
      "Requirement already satisfied: argon2-cffi>=21.1 in c:\\users\\fakba\\anaconda3\\envs\\dynamicpricing\\lib\\site-packages (from jupyter-server<3,>=2.4.0->notebook) (21.3.0)\n",
      "Requirement already satisfied: jinja2>=3.0.3 in c:\\users\\fakba\\anaconda3\\envs\\dynamicpricing\\lib\\site-packages (from jupyter-server<3,>=2.4.0->notebook) (3.1.6)\n",
      "Requirement already satisfied: jupyter-client>=7.4.4 in c:\\users\\fakba\\anaconda3\\envs\\dynamicpricing\\lib\\site-packages (from jupyter-server<3,>=2.4.0->notebook) (8.6.3)\n",
      "Requirement already satisfied: jupyter-core!=5.0.*,>=4.12 in c:\\users\\fakba\\anaconda3\\envs\\dynamicpricing\\lib\\site-packages (from jupyter-server<3,>=2.4.0->notebook) (5.7.2)\n",
      "Requirement already satisfied: jupyter-events>=0.11.0 in c:\\users\\fakba\\anaconda3\\envs\\dynamicpricing\\lib\\site-packages (from jupyter-server<3,>=2.4.0->notebook) (0.12.0)\n",
      "Requirement already satisfied: jupyter-server-terminals>=0.4.4 in c:\\users\\fakba\\anaconda3\\envs\\dynamicpricing\\lib\\site-packages (from jupyter-server<3,>=2.4.0->notebook) (0.5.3)\n",
      "Requirement already satisfied: nbconvert>=6.4.4 in c:\\users\\fakba\\anaconda3\\envs\\dynamicpricing\\lib\\site-packages (from jupyter-server<3,>=2.4.0->notebook) (7.16.6)\n",
      "Requirement already satisfied: nbformat>=5.3.0 in c:\\users\\fakba\\anaconda3\\envs\\dynamicpricing\\lib\\site-packages (from jupyter-server<3,>=2.4.0->notebook) (5.10.4)\n",
      "Requirement already satisfied: overrides>=5.0 in c:\\users\\fakba\\anaconda3\\envs\\dynamicpricing\\lib\\site-packages (from jupyter-server<3,>=2.4.0->notebook) (7.4.0)\n",
      "Requirement already satisfied: packaging>=22.0 in c:\\users\\fakba\\anaconda3\\envs\\dynamicpricing\\lib\\site-packages (from jupyter-server<3,>=2.4.0->notebook) (24.2)\n",
      "Requirement already satisfied: prometheus-client>=0.9 in c:\\users\\fakba\\anaconda3\\envs\\dynamicpricing\\lib\\site-packages (from jupyter-server<3,>=2.4.0->notebook) (0.21.1)\n",
      "Requirement already satisfied: pywinpty>=2.0.1 in c:\\users\\fakba\\anaconda3\\envs\\dynamicpricing\\lib\\site-packages (from jupyter-server<3,>=2.4.0->notebook) (2.0.15)\n",
      "Requirement already satisfied: pyzmq>=24 in c:\\users\\fakba\\anaconda3\\envs\\dynamicpricing\\lib\\site-packages (from jupyter-server<3,>=2.4.0->notebook) (26.2.0)\n",
      "Requirement already satisfied: send2trash>=1.8.2 in c:\\users\\fakba\\anaconda3\\envs\\dynamicpricing\\lib\\site-packages (from jupyter-server<3,>=2.4.0->notebook) (1.8.2)\n",
      "Requirement already satisfied: terminado>=0.8.3 in c:\\users\\fakba\\anaconda3\\envs\\dynamicpricing\\lib\\site-packages (from jupyter-server<3,>=2.4.0->notebook) (0.17.1)\n",
      "Requirement already satisfied: traitlets>=5.6.0 in c:\\users\\fakba\\anaconda3\\envs\\dynamicpricing\\lib\\site-packages (from jupyter-server<3,>=2.4.0->notebook) (5.14.3)\n",
      "Requirement already satisfied: websocket-client>=1.7 in c:\\users\\fakba\\anaconda3\\envs\\dynamicpricing\\lib\\site-packages (from jupyter-server<3,>=2.4.0->notebook) (1.8.0)\n",
      "Requirement already satisfied: async-lru>=1.0.0 in c:\\users\\fakba\\anaconda3\\envs\\dynamicpricing\\lib\\site-packages (from jupyterlab<4.5,>=4.4.3->notebook) (2.0.4)\n",
      "Requirement already satisfied: httpx>=0.25.0 in c:\\users\\fakba\\anaconda3\\envs\\dynamicpricing\\lib\\site-packages (from jupyterlab<4.5,>=4.4.3->notebook) (0.28.1)\n",
      "Requirement already satisfied: ipykernel>=6.5.0 in c:\\users\\fakba\\anaconda3\\envs\\dynamicpricing\\lib\\site-packages (from jupyterlab<4.5,>=4.4.3->notebook) (6.29.5)\n",
      "Requirement already satisfied: jupyter-lsp>=2.0.0 in c:\\users\\fakba\\anaconda3\\envs\\dynamicpricing\\lib\\site-packages (from jupyterlab<4.5,>=4.4.3->notebook) (2.2.5)\n",
      "Requirement already satisfied: setuptools>=41.1.0 in c:\\users\\fakba\\anaconda3\\envs\\dynamicpricing\\lib\\site-packages (from jupyterlab<4.5,>=4.4.3->notebook) (78.1.1)\n",
      "Requirement already satisfied: babel>=2.10 in c:\\users\\fakba\\anaconda3\\envs\\dynamicpricing\\lib\\site-packages (from jupyterlab-server<3,>=2.27.1->notebook) (2.16.0)\n",
      "Requirement already satisfied: json5>=0.9.0 in c:\\users\\fakba\\anaconda3\\envs\\dynamicpricing\\lib\\site-packages (from jupyterlab-server<3,>=2.27.1->notebook) (0.9.25)\n",
      "Requirement already satisfied: jsonschema>=4.18.0 in c:\\users\\fakba\\anaconda3\\envs\\dynamicpricing\\lib\\site-packages (from jupyterlab-server<3,>=2.27.1->notebook) (4.23.0)\n",
      "Requirement already satisfied: requests>=2.31 in c:\\users\\fakba\\anaconda3\\envs\\dynamicpricing\\lib\\site-packages (from jupyterlab-server<3,>=2.27.1->notebook) (2.32.3)\n",
      "Requirement already satisfied: comm>=0.1.3 in c:\\users\\fakba\\anaconda3\\envs\\dynamicpricing\\lib\\site-packages (from ipywidgets) (0.2.1)\n",
      "Requirement already satisfied: ipython>=6.1.0 in c:\\users\\fakba\\anaconda3\\envs\\dynamicpricing\\lib\\site-packages (from ipywidgets) (8.30.0)\n",
      "Requirement already satisfied: widgetsnbextension~=4.0.14 in c:\\users\\fakba\\anaconda3\\envs\\dynamicpricing\\lib\\site-packages (from ipywidgets) (4.0.14)\n",
      "Requirement already satisfied: jupyterlab_widgets~=3.0.15 in c:\\users\\fakba\\anaconda3\\envs\\dynamicpricing\\lib\\site-packages (from ipywidgets) (3.0.15)\n",
      "Requirement already satisfied: idna>=2.8 in c:\\users\\fakba\\anaconda3\\envs\\dynamicpricing\\lib\\site-packages (from anyio>=3.1.0->jupyter-server<3,>=2.4.0->notebook) (3.7)\n",
      "Requirement already satisfied: sniffio>=1.1 in c:\\users\\fakba\\anaconda3\\envs\\dynamicpricing\\lib\\site-packages (from anyio>=3.1.0->jupyter-server<3,>=2.4.0->notebook) (1.3.0)\n",
      "Requirement already satisfied: typing_extensions>=4.5 in c:\\users\\fakba\\anaconda3\\envs\\dynamicpricing\\lib\\site-packages (from anyio>=3.1.0->jupyter-server<3,>=2.4.0->notebook) (4.12.2)\n",
      "Requirement already satisfied: argon2-cffi-bindings in c:\\users\\fakba\\anaconda3\\envs\\dynamicpricing\\lib\\site-packages (from argon2-cffi>=21.1->jupyter-server<3,>=2.4.0->notebook) (21.2.0)\n",
      "Requirement already satisfied: certifi in c:\\users\\fakba\\anaconda3\\envs\\dynamicpricing\\lib\\site-packages (from httpx>=0.25.0->jupyterlab<4.5,>=4.4.3->notebook) (2025.4.26)\n",
      "Requirement already satisfied: httpcore==1.* in c:\\users\\fakba\\anaconda3\\envs\\dynamicpricing\\lib\\site-packages (from httpx>=0.25.0->jupyterlab<4.5,>=4.4.3->notebook) (1.0.9)\n",
      "Requirement already satisfied: h11>=0.16 in c:\\users\\fakba\\anaconda3\\envs\\dynamicpricing\\lib\\site-packages (from httpcore==1.*->httpx>=0.25.0->jupyterlab<4.5,>=4.4.3->notebook) (0.16.0)\n",
      "Requirement already satisfied: debugpy>=1.6.5 in c:\\users\\fakba\\anaconda3\\envs\\dynamicpricing\\lib\\site-packages (from ipykernel>=6.5.0->jupyterlab<4.5,>=4.4.3->notebook) (1.8.11)\n",
      "Requirement already satisfied: matplotlib-inline>=0.1 in c:\\users\\fakba\\anaconda3\\envs\\dynamicpricing\\lib\\site-packages (from ipykernel>=6.5.0->jupyterlab<4.5,>=4.4.3->notebook) (0.1.6)\n",
      "Requirement already satisfied: nest-asyncio in c:\\users\\fakba\\anaconda3\\envs\\dynamicpricing\\lib\\site-packages (from ipykernel>=6.5.0->jupyterlab<4.5,>=4.4.3->notebook) (1.6.0)\n",
      "Requirement already satisfied: psutil in c:\\users\\fakba\\anaconda3\\envs\\dynamicpricing\\lib\\site-packages (from ipykernel>=6.5.0->jupyterlab<4.5,>=4.4.3->notebook) (5.9.0)\n",
      "Requirement already satisfied: decorator in c:\\users\\fakba\\anaconda3\\envs\\dynamicpricing\\lib\\site-packages (from ipython>=6.1.0->ipywidgets) (5.1.1)\n",
      "Requirement already satisfied: jedi>=0.16 in c:\\users\\fakba\\anaconda3\\envs\\dynamicpricing\\lib\\site-packages (from ipython>=6.1.0->ipywidgets) (0.19.2)\n",
      "Requirement already satisfied: prompt-toolkit<3.1.0,>=3.0.41 in c:\\users\\fakba\\anaconda3\\envs\\dynamicpricing\\lib\\site-packages (from ipython>=6.1.0->ipywidgets) (3.0.43)\n",
      "Requirement already satisfied: pygments>=2.4.0 in c:\\users\\fakba\\anaconda3\\envs\\dynamicpricing\\lib\\site-packages (from ipython>=6.1.0->ipywidgets) (2.19.1)\n",
      "Requirement already satisfied: stack-data in c:\\users\\fakba\\anaconda3\\envs\\dynamicpricing\\lib\\site-packages (from ipython>=6.1.0->ipywidgets) (0.2.0)\n",
      "Requirement already satisfied: colorama in c:\\users\\fakba\\anaconda3\\envs\\dynamicpricing\\lib\\site-packages (from ipython>=6.1.0->ipywidgets) (0.4.6)\n",
      "Requirement already satisfied: wcwidth in c:\\users\\fakba\\anaconda3\\envs\\dynamicpricing\\lib\\site-packages (from prompt-toolkit<3.1.0,>=3.0.41->ipython>=6.1.0->ipywidgets) (0.2.5)\n",
      "Requirement already satisfied: parso<0.9.0,>=0.8.4 in c:\\users\\fakba\\anaconda3\\envs\\dynamicpricing\\lib\\site-packages (from jedi>=0.16->ipython>=6.1.0->ipywidgets) (0.8.4)\n",
      "Requirement already satisfied: MarkupSafe>=2.0 in c:\\users\\fakba\\anaconda3\\envs\\dynamicpricing\\lib\\site-packages (from jinja2>=3.0.3->jupyter-server<3,>=2.4.0->notebook) (3.0.2)\n",
      "Requirement already satisfied: attrs>=22.2.0 in c:\\users\\fakba\\anaconda3\\envs\\dynamicpricing\\lib\\site-packages (from jsonschema>=4.18.0->jupyterlab-server<3,>=2.27.1->notebook) (24.3.0)\n",
      "Requirement already satisfied: jsonschema-specifications>=2023.03.6 in c:\\users\\fakba\\anaconda3\\envs\\dynamicpricing\\lib\\site-packages (from jsonschema>=4.18.0->jupyterlab-server<3,>=2.27.1->notebook) (2023.7.1)\n",
      "Requirement already satisfied: referencing>=0.28.4 in c:\\users\\fakba\\anaconda3\\envs\\dynamicpricing\\lib\\site-packages (from jsonschema>=4.18.0->jupyterlab-server<3,>=2.27.1->notebook) (0.30.2)\n",
      "Requirement already satisfied: rpds-py>=0.7.1 in c:\\users\\fakba\\anaconda3\\envs\\dynamicpricing\\lib\\site-packages (from jsonschema>=4.18.0->jupyterlab-server<3,>=2.27.1->notebook) (0.22.3)\n",
      "Requirement already satisfied: python-dateutil>=2.8.2 in c:\\users\\fakba\\anaconda3\\envs\\dynamicpricing\\lib\\site-packages (from jupyter-client>=7.4.4->jupyter-server<3,>=2.4.0->notebook) (2.9.0.post0)\n",
      "Requirement already satisfied: platformdirs>=2.5 in c:\\users\\fakba\\anaconda3\\envs\\dynamicpricing\\lib\\site-packages (from jupyter-core!=5.0.*,>=4.12->jupyter-server<3,>=2.4.0->notebook) (4.3.7)\n",
      "Requirement already satisfied: pywin32>=300 in c:\\users\\fakba\\anaconda3\\envs\\dynamicpricing\\lib\\site-packages (from jupyter-core!=5.0.*,>=4.12->jupyter-server<3,>=2.4.0->notebook) (308)\n",
      "Requirement already satisfied: python-json-logger>=2.0.4 in c:\\users\\fakba\\anaconda3\\envs\\dynamicpricing\\lib\\site-packages (from jupyter-events>=0.11.0->jupyter-server<3,>=2.4.0->notebook) (3.2.1)\n",
      "Requirement already satisfied: pyyaml>=5.3 in c:\\users\\fakba\\anaconda3\\envs\\dynamicpricing\\lib\\site-packages (from jupyter-events>=0.11.0->jupyter-server<3,>=2.4.0->notebook) (6.0.2)\n",
      "Requirement already satisfied: rfc3339-validator in c:\\users\\fakba\\anaconda3\\envs\\dynamicpricing\\lib\\site-packages (from jupyter-events>=0.11.0->jupyter-server<3,>=2.4.0->notebook) (0.1.4)\n",
      "Requirement already satisfied: rfc3986-validator>=0.1.1 in c:\\users\\fakba\\anaconda3\\envs\\dynamicpricing\\lib\\site-packages (from jupyter-events>=0.11.0->jupyter-server<3,>=2.4.0->notebook) (0.1.1)\n",
      "Collecting fqdn (from jsonschema[format-nongpl]>=4.18.0->jupyter-events>=0.11.0->jupyter-server<3,>=2.4.0->notebook)\n",
      "  Downloading fqdn-1.5.1-py3-none-any.whl.metadata (1.4 kB)\n",
      "Collecting isoduration (from jsonschema[format-nongpl]>=4.18.0->jupyter-events>=0.11.0->jupyter-server<3,>=2.4.0->notebook)\n",
      "  Downloading isoduration-20.11.0-py3-none-any.whl.metadata (5.7 kB)\n",
      "Collecting jsonpointer>1.13 (from jsonschema[format-nongpl]>=4.18.0->jupyter-events>=0.11.0->jupyter-server<3,>=2.4.0->notebook)\n",
      "  Downloading jsonpointer-3.0.0-py2.py3-none-any.whl.metadata (2.3 kB)\n",
      "Collecting uri-template (from jsonschema[format-nongpl]>=4.18.0->jupyter-events>=0.11.0->jupyter-server<3,>=2.4.0->notebook)\n",
      "  Downloading uri_template-1.3.0-py3-none-any.whl.metadata (8.8 kB)\n",
      "Collecting webcolors>=24.6.0 (from jsonschema[format-nongpl]>=4.18.0->jupyter-events>=0.11.0->jupyter-server<3,>=2.4.0->notebook)\n",
      "  Downloading webcolors-24.11.1-py3-none-any.whl.metadata (2.2 kB)\n",
      "Requirement already satisfied: beautifulsoup4 in c:\\users\\fakba\\anaconda3\\envs\\dynamicpricing\\lib\\site-packages (from nbconvert>=6.4.4->jupyter-server<3,>=2.4.0->notebook) (4.12.3)\n",
      "Requirement already satisfied: bleach!=5.0.0 in c:\\users\\fakba\\anaconda3\\envs\\dynamicpricing\\lib\\site-packages (from bleach[css]!=5.0.0->nbconvert>=6.4.4->jupyter-server<3,>=2.4.0->notebook) (6.2.0)\n",
      "Requirement already satisfied: defusedxml in c:\\users\\fakba\\anaconda3\\envs\\dynamicpricing\\lib\\site-packages (from nbconvert>=6.4.4->jupyter-server<3,>=2.4.0->notebook) (0.7.1)\n",
      "Requirement already satisfied: jupyterlab-pygments in c:\\users\\fakba\\anaconda3\\envs\\dynamicpricing\\lib\\site-packages (from nbconvert>=6.4.4->jupyter-server<3,>=2.4.0->notebook) (0.3.0)\n",
      "Requirement already satisfied: mistune<4,>=2.0.3 in c:\\users\\fakba\\anaconda3\\envs\\dynamicpricing\\lib\\site-packages (from nbconvert>=6.4.4->jupyter-server<3,>=2.4.0->notebook) (3.1.2)\n",
      "Requirement already satisfied: nbclient>=0.5.0 in c:\\users\\fakba\\anaconda3\\envs\\dynamicpricing\\lib\\site-packages (from nbconvert>=6.4.4->jupyter-server<3,>=2.4.0->notebook) (0.10.2)\n",
      "Requirement already satisfied: pandocfilters>=1.4.1 in c:\\users\\fakba\\anaconda3\\envs\\dynamicpricing\\lib\\site-packages (from nbconvert>=6.4.4->jupyter-server<3,>=2.4.0->notebook) (1.5.0)\n",
      "Requirement already satisfied: webencodings in c:\\users\\fakba\\anaconda3\\envs\\dynamicpricing\\lib\\site-packages (from bleach!=5.0.0->bleach[css]!=5.0.0->nbconvert>=6.4.4->jupyter-server<3,>=2.4.0->notebook) (0.5.1)\n",
      "Requirement already satisfied: tinycss2<1.5,>=1.1.0 in c:\\users\\fakba\\anaconda3\\envs\\dynamicpricing\\lib\\site-packages (from bleach[css]!=5.0.0->nbconvert>=6.4.4->jupyter-server<3,>=2.4.0->notebook) (1.4.0)\n",
      "Requirement already satisfied: fastjsonschema>=2.15 in c:\\users\\fakba\\anaconda3\\envs\\dynamicpricing\\lib\\site-packages (from nbformat>=5.3.0->jupyter-server<3,>=2.4.0->notebook) (2.20.0)\n",
      "Requirement already satisfied: six>=1.5 in c:\\users\\fakba\\anaconda3\\envs\\dynamicpricing\\lib\\site-packages (from python-dateutil>=2.8.2->jupyter-client>=7.4.4->jupyter-server<3,>=2.4.0->notebook) (1.17.0)\n",
      "Requirement already satisfied: charset-normalizer<4,>=2 in c:\\users\\fakba\\anaconda3\\envs\\dynamicpricing\\lib\\site-packages (from requests>=2.31->jupyterlab-server<3,>=2.27.1->notebook) (3.3.2)\n",
      "Requirement already satisfied: urllib3<3,>=1.21.1 in c:\\users\\fakba\\anaconda3\\envs\\dynamicpricing\\lib\\site-packages (from requests>=2.31->jupyterlab-server<3,>=2.27.1->notebook) (2.3.0)\n",
      "Requirement already satisfied: cffi>=1.0.1 in c:\\users\\fakba\\anaconda3\\envs\\dynamicpricing\\lib\\site-packages (from argon2-cffi-bindings->argon2-cffi>=21.1->jupyter-server<3,>=2.4.0->notebook) (1.17.1)\n",
      "Requirement already satisfied: pycparser in c:\\users\\fakba\\anaconda3\\envs\\dynamicpricing\\lib\\site-packages (from cffi>=1.0.1->argon2-cffi-bindings->argon2-cffi>=21.1->jupyter-server<3,>=2.4.0->notebook) (2.21)\n",
      "Requirement already satisfied: soupsieve>1.2 in c:\\users\\fakba\\anaconda3\\envs\\dynamicpricing\\lib\\site-packages (from beautifulsoup4->nbconvert>=6.4.4->jupyter-server<3,>=2.4.0->notebook) (2.5)\n",
      "Requirement already satisfied: arrow>=0.15.0 in c:\\users\\fakba\\anaconda3\\envs\\dynamicpricing\\lib\\site-packages (from isoduration->jsonschema[format-nongpl]>=4.18.0->jupyter-events>=0.11.0->jupyter-server<3,>=2.4.0->notebook) (1.3.0)\n",
      "Requirement already satisfied: executing in c:\\users\\fakba\\anaconda3\\envs\\dynamicpricing\\lib\\site-packages (from stack-data->ipython>=6.1.0->ipywidgets) (0.8.3)\n",
      "Requirement already satisfied: asttokens in c:\\users\\fakba\\anaconda3\\envs\\dynamicpricing\\lib\\site-packages (from stack-data->ipython>=6.1.0->ipywidgets) (3.0.0)\n",
      "Requirement already satisfied: pure-eval in c:\\users\\fakba\\anaconda3\\envs\\dynamicpricing\\lib\\site-packages (from stack-data->ipython>=6.1.0->ipywidgets) (0.2.2)\n",
      "Downloading notebook-7.4.3-py3-none-any.whl (14.3 MB)\n",
      "   ---------------------------------------- 0.0/14.3 MB ? eta -:--:--\n",
      "    --------------------------------------- 0.3/14.3 MB ? eta -:--:--\n",
      "   -- ------------------------------------- 0.8/14.3 MB 2.8 MB/s eta 0:00:05\n",
      "   ----- ---------------------------------- 1.8/14.3 MB 3.6 MB/s eta 0:00:04\n",
      "   -------- ------------------------------- 3.1/14.3 MB 4.5 MB/s eta 0:00:03\n",
      "   ------------- -------------------------- 4.7/14.3 MB 5.2 MB/s eta 0:00:02\n",
      "   ------------------- -------------------- 6.8/14.3 MB 6.0 MB/s eta 0:00:02\n",
      "   ------------------------ --------------- 8.7/14.3 MB 6.5 MB/s eta 0:00:01\n",
      "   ----------------------------- ---------- 10.5/14.3 MB 6.8 MB/s eta 0:00:01\n",
      "   --------------------------------- ------ 12.1/14.3 MB 6.9 MB/s eta 0:00:01\n",
      "   ------------------------------------- -- 13.4/14.3 MB 6.7 MB/s eta 0:00:01\n",
      "   ---------------------------------------- 14.3/14.3 MB 6.6 MB/s eta 0:00:00\n",
      "Downloading jupyterlab-4.4.3-py3-none-any.whl (12.3 MB)\n",
      "   ---------------------------------------- 0.0/12.3 MB ? eta -:--:--\n",
      "   ----- ---------------------------------- 1.6/12.3 MB 9.3 MB/s eta 0:00:02\n",
      "   --------- ------------------------------ 2.9/12.3 MB 7.0 MB/s eta 0:00:02\n",
      "   -------------- ------------------------- 4.5/12.3 MB 7.1 MB/s eta 0:00:02\n",
      "   ------------------- -------------------- 6.0/12.3 MB 7.1 MB/s eta 0:00:01\n",
      "   ----------------------- ---------------- 7.3/12.3 MB 7.0 MB/s eta 0:00:01\n",
      "   --------------------------- ------------ 8.4/12.3 MB 6.7 MB/s eta 0:00:01\n",
      "   -------------------------------- ------- 10.0/12.3 MB 6.8 MB/s eta 0:00:01\n",
      "   ---------------------------------------  12.1/12.3 MB 7.3 MB/s eta 0:00:01\n",
      "   ---------------------------------------- 12.3/12.3 MB 7.1 MB/s eta 0:00:00\n",
      "Downloading jsonpointer-3.0.0-py2.py3-none-any.whl (7.6 kB)\n",
      "Downloading webcolors-24.11.1-py3-none-any.whl (14 kB)\n",
      "Downloading fqdn-1.5.1-py3-none-any.whl (9.1 kB)\n",
      "Downloading isoduration-20.11.0-py3-none-any.whl (11 kB)\n",
      "Downloading uri_template-1.3.0-py3-none-any.whl (11 kB)\n",
      "Installing collected packages: webcolors, uri-template, jsonpointer, fqdn, isoduration, jupyterlab, notebook\n",
      "\n",
      "   ----------- ---------------------------- 2/7 [jsonpointer]\n",
      "  Attempting uninstall: jupyterlab\n",
      "   ----------- ---------------------------- 2/7 [jsonpointer]\n",
      "   ---------------------------- ----------- 5/7 [jupyterlab]\n",
      "    Found existing installation: jupyterlab 4.3.4\n",
      "   ---------------------------- ----------- 5/7 [jupyterlab]\n",
      "   ---------------------------- ----------- 5/7 [jupyterlab]\n",
      "   ---------------------------- ----------- 5/7 [jupyterlab]\n",
      "    Uninstalling jupyterlab-4.3.4:\n",
      "   ---------------------------- ----------- 5/7 [jupyterlab]\n",
      "   ---------------------------- ----------- 5/7 [jupyterlab]\n",
      "      Successfully uninstalled jupyterlab-4.3.4\n",
      "   ---------------------------- ----------- 5/7 [jupyterlab]\n",
      "   ---------------------------- ----------- 5/7 [jupyterlab]\n",
      "   ---------------------------- ----------- 5/7 [jupyterlab]\n",
      "   ---------------------------- ----------- 5/7 [jupyterlab]\n",
      "   ---------------------------- ----------- 5/7 [jupyterlab]\n",
      "   ---------------------------- ----------- 5/7 [jupyterlab]\n",
      "   ---------------------------- ----------- 5/7 [jupyterlab]\n",
      "   ---------------------------- ----------- 5/7 [jupyterlab]\n",
      "   ---------------------------- ----------- 5/7 [jupyterlab]\n",
      "   ---------------------------- ----------- 5/7 [jupyterlab]\n",
      "   ---------------------------- ----------- 5/7 [jupyterlab]\n",
      "   ---------------------------- ----------- 5/7 [jupyterlab]\n",
      "   ---------------------------- ----------- 5/7 [jupyterlab]\n",
      "   ---------------------------- ----------- 5/7 [jupyterlab]\n",
      "   ---------------------------- ----------- 5/7 [jupyterlab]\n",
      "   ---------------------------- ----------- 5/7 [jupyterlab]\n",
      "   ---------------------------- ----------- 5/7 [jupyterlab]\n",
      "  Attempting uninstall: notebook\n",
      "   ---------------------------- ----------- 5/7 [jupyterlab]\n",
      "    Found existing installation: notebook 7.3.2\n",
      "   ---------------------------- ----------- 5/7 [jupyterlab]\n",
      "   ---------------------------------- ----- 6/7 [notebook]\n",
      "    Uninstalling notebook-7.3.2:\n",
      "   ---------------------------------- ----- 6/7 [notebook]\n",
      "      Successfully uninstalled notebook-7.3.2\n",
      "   ---------------------------------- ----- 6/7 [notebook]\n",
      "   ---------------------------------- ----- 6/7 [notebook]\n",
      "   ---------------------------------- ----- 6/7 [notebook]\n",
      "   ---------------------------------- ----- 6/7 [notebook]\n",
      "   ---------------------------------- ----- 6/7 [notebook]\n",
      "   ---------------------------------- ----- 6/7 [notebook]\n",
      "   ---------------------------------- ----- 6/7 [notebook]\n",
      "   ---------------------------------- ----- 6/7 [notebook]\n",
      "   ---------------------------------- ----- 6/7 [notebook]\n",
      "   ---------------------------------- ----- 6/7 [notebook]\n",
      "   ---------------------------------- ----- 6/7 [notebook]\n",
      "   ---------------------------------------- 7/7 [notebook]\n",
      "\n",
      "Successfully installed fqdn-1.5.1 isoduration-20.11.0 jsonpointer-3.0.0 jupyterlab-4.4.3 notebook-7.4.3 uri-template-1.3.0 webcolors-24.11.1\n"
     ]
    }
   ],
   "source": [
    "!pip install --upgrade notebook ipywidgets\n"
   ]
  },
  {
   "cell_type": "code",
   "execution_count": 30,
   "id": "badeca08-79ad-4576-a1c1-2dea8cd9e89a",
   "metadata": {},
   "outputs": [
    {
     "name": "stderr",
     "output_type": "stream",
     "text": [
      "C:\\Users\\fakba\\anaconda3\\envs\\dynamicpricing\\Lib\\site-packages\\tqdm\\auto.py:21: TqdmWarning: IProgress not found. Please update jupyter and ipywidgets. See https://ipywidgets.readthedocs.io/en/stable/user_install.html\n",
      "  from .autonotebook import tqdm as notebook_tqdm\n"
     ]
    },
    {
     "data": {
      "image/png": "[encoded data removed]",
      "text/plain": [
       "<Figure size 800x950 with 2 Axes>"
      ]
     },
     "metadata": {},
     "output_type": "display_data"
    }
   ],
   "source": [
    "import shap\n",
    "\n",
    "explainer = shap.TreeExplainer(best_model)\n",
    "shap_values = explainer.shap_values(X_test)\n",
    "\n",
    "# نمایش summary plot\n",
    "shap.summary_plot(shap_values, X_test)\n"
   ]
  },
  {
   "cell_type": "code",
   "execution_count": 39,
   "id": "1e2e7494-240b-4ae4-9776-2bf24351e946",
   "metadata": {},
   "outputs": [
    {
     "ename": "NameError",
     "evalue": "name 'model_columns' is not defined",
     "output_type": "error",
     "traceback": [
      "\u001b[1;31m---------------------------------------------------------------------------\u001b[0m",
      "\u001b[1;31mNameError\u001b[0m                                 Traceback (most recent call last)",
      "Cell \u001b[1;32mIn[39], line 1\u001b[0m\n\u001b[1;32m----> 1\u001b[0m model_columns[:\u001b[38;5;241m5\u001b[39m]\n",
      "\u001b[1;31mNameError\u001b[0m: name 'model_columns' is not defined"
     ]
    }
   ],
   "source": [
    "model_columns[:5]  # نمایش ۵ ستون اول برای چک سریع\n"
   ]
  },
  {
   "cell_type": "code",
   "execution_count": 34,
   "id": "f29b86c6-0d9e-4eea-a630-4100a0d41462",
   "metadata": {},
   "outputs": [
    {
     "name": "stdout",
     "output_type": "stream",
     "text": [
      "✅ model_columns.pkl ذخیره شد.\n",
      "✅ مدل آموزش دید.\n",
      "✅ best_model.pkl ذخیره شد.\n",
      "📊 Mean Squared Error روی داده تست: 1.50\n"
     ]
    }
   ],
   "source": [
    "import pandas as pd\n",
    "import joblib\n",
    "from sklearn.ensemble import RandomForestRegressor\n",
    "from sklearn.model_selection import train_test_split, GridSearchCV\n",
    "from sklearn.metrics import mean_squared_error\n",
    "\n",
    "# 1. خواندن داده‌ها (دیتایی که قبلاً encoding شده)\n",
    "df = pd.read_csv('data_modified.csv')  # ← فایل شما که ستون‌هاش نرمالایز شده\n",
    "\n",
    "# 2. حذف ردیف‌های ناقص (در صورت وجود)\n",
    "df = df.dropna()\n",
    "\n",
    "# 3. تعریف target و features\n",
    "target = 'MonthlyCharges'\n",
    "X = df.drop(columns=[target])\n",
    "y = df[target]\n",
    "\n",
    "# 4. ذخیره ستون‌های ویژگی برای Streamlit\n",
    "model_columns = list(X.columns)\n",
    "joblib.dump(model_columns, 'model_columns.pkl')\n",
    "print(\"✅ model_columns.pkl ذخیره شد.\")\n",
    "\n",
    "# 5. تقسیم آموزش و تست\n",
    "X_train, X_test, y_train, y_test = train_test_split(X, y, test_size=0.2, random_state=42)\n",
    "\n",
    "# 6. تعریف مدل و GridSearch\n",
    "param_grid = {\n",
    "    'n_estimators': [50, 100],\n",
    "    'max_depth': [None, 10, 20]\n",
    "}\n",
    "model = RandomForestRegressor(random_state=42)\n",
    "grid_search = GridSearchCV(model, param_grid, cv=5, scoring='neg_mean_squared_error')\n",
    "grid_search.fit(X_train, y_train)\n",
    "\n",
    "# 7. بهترین مدل\n",
    "best_model = grid_search.best_estimator_\n",
    "print(\"✅ مدل آموزش دید.\")\n",
    "\n",
    "# 8. ذخیره مدل\n",
    "joblib.dump(best_model, 'best_model.pkl')\n",
    "print(\"✅ best_model.pkl ذخیره شد.\")\n",
    "\n",
    "# 9. بررسی عملکرد مدل\n",
    "y_pred = best_model.predict(X_test)\n",
    "mse = mean_squared_error(y_test, y_pred)\n",
    "print(f\"📊 Mean Squared Error روی داده تست: {mse:.2f}\")\n"
   ]
  },
  {
   "cell_type": "code",
   "execution_count": 1,
   "id": "e5a1b4bc-b4a0-4245-bf13-7a1c0d936f2c",
   "metadata": {},
   "outputs": [
    {
     "ename": "NameError",
     "evalue": "name 'pd' is not defined",
     "output_type": "error",
     "traceback": [
      "\u001b[1;31m---------------------------------------------------------------------------\u001b[0m",
      "\u001b[1;31mNameError\u001b[0m                                 Traceback (most recent call last)",
      "Cell \u001b[1;32mIn[1], line 1\u001b[0m\n\u001b[1;32m----> 1\u001b[0m df \u001b[38;5;241m=\u001b[39m pd\u001b[38;5;241m.\u001b[39mread_csv(\u001b[38;5;124m'\u001b[39m\u001b[38;5;124mmodified_file.csv\u001b[39m\u001b[38;5;124m'\u001b[39m)\n\u001b[0;32m      3\u001b[0m \u001b[38;5;66;03m# Show the column names\u001b[39;00m\n\u001b[0;32m      4\u001b[0m \u001b[38;5;28mprint\u001b[39m(df\u001b[38;5;241m.\u001b[39mcolumns)\n",
      "\u001b[1;31mNameError\u001b[0m: name 'pd' is not defined"
     ]
    }
   ],
   "source": [
    "import pandas as pd\n",
    "\n",
    "# خواندن فایل CSV اولیه\n",
    "df_model = pd.read_csv('data.csv')\n",
    "\n",
    "# اعمال تغییرات دلخواه روی df_model (در صورت نیاز)\n",
    "# مثلاً:\n",
    "# df_model = df_model.dropna()\n",
    "\n",
    "# ذخیره دیتافریم اصلاح شده\n",
    "df_model.to_csv('data_modified.csv', index=False)\n"
   ]
  },
  {
   "cell_type": "code",
   "execution_count": 39,
   "id": "85d0c5b4-f4b6-41a8-b000-3be6dcbfbabf",
   "metadata": {},
   "outputs": [
    {
     "name": "stderr",
     "output_type": "stream",
     "text": [
      "2025/06/25 12:37:16 WARNING mlflow.models.model: `artifact_path` is deprecated. Please use `name` instead.\n",
      "2025/06/25 12:37:25 WARNING mlflow.models.model: Model logged without a signature and input example. Please set `input_example` parameter when logging the model to auto infer the model signature.\n"
     ]
    },
    {
     "name": "stdout",
     "output_type": "stream",
     "text": [
      "Model trained and logged with RMSE: 1.22\n",
      "Model saved as best_model.pkl\n"
     ]
    }
   ],
   "source": [
    "# -------------------- وارد کردن کتابخانه‌ها --------------------\n",
    "import pandas as pd\n",
    "import numpy as np\n",
    "import mlflow\n",
    "import mlflow.sklearn\n",
    "import joblib\n",
    "from sklearn.ensemble import RandomForestRegressor\n",
    "from sklearn.model_selection import GridSearchCV, train_test_split\n",
    "from sklearn.metrics import mean_squared_error\n",
    "\n",
    "# -------------------- فرض: داده آماده است --------------------\n",
    "# اگر داده‌ات در فایل CSV است:\n",
    "# df = pd.read_csv('your_data.csv')\n",
    "\n",
    "# لیست جدید ویژگی‌ها\n",
    "features = ['SeniorCitizen', 'tenure', 'Churn', 'gender_Male',\n",
    "            'Partner_Yes', 'Dependents_Yes', 'PhoneService_Yes',\n",
    "            'MultipleLines_No phone service', 'MultipleLines_Yes',\n",
    "            'InternetService_Fiber optic', 'InternetService_No',\n",
    "            'OnlineSecurity_No internet service', 'OnlineSecurity_Yes',\n",
    "            'OnlineBackup_No internet service', 'OnlineBackup_Yes',\n",
    "            'DeviceProtection_No internet service', 'DeviceProtection_Yes',\n",
    "            'TechSupport_No internet service', 'TechSupport_Yes',\n",
    "            'StreamingTV_No internet service', 'StreamingTV_Yes',\n",
    "            'StreamingMovies_No internet service', 'StreamingMovies_Yes',\n",
    "            'Contract_One year', 'Contract_Two year', 'PaperlessBilling_Yes',\n",
    "            'PaymentMethod_Credit card (automatic)',\n",
    "            'PaymentMethod_Electronic check', 'PaymentMethod_Mailed check']\n",
    "\n",
    "target = 'MonthlyCharges'\n",
    "\n",
    "# فرض: df از قبل شامل ستون‌های نهایی آماده است (مثلاً با get_dummies آماده شده)\n",
    "X = df[features]\n",
    "y = df[target]\n",
    "\n",
    "# تقسیم داده‌ها\n",
    "X_train, X_test, y_train, y_test = train_test_split(X, y, test_size=0.2, random_state=42)\n",
    "\n",
    "# -------------------- تنظیم پروژه در MLflow --------------------\n",
    "mlflow.set_experiment(\"MonthlyCharges_Prediction\")\n",
    "\n",
    "# -------------------- شروع ثبت در MLflow --------------------\n",
    "with mlflow.start_run():\n",
    "\n",
    "    # تعریف مدل و شبکه پارامترها\n",
    "    model = RandomForestRegressor(random_state=42)\n",
    "    param_grid = {\n",
    "        'n_estimators': [50, 100],\n",
    "        'max_depth': [None, 10, 20]\n",
    "    }\n",
    "\n",
    "    # Grid Search\n",
    "    grid_search = GridSearchCV(model, param_grid, cv=5, scoring='neg_mean_squared_error')\n",
    "    grid_search.fit(X_train, y_train)\n",
    "\n",
    "    best_model = grid_search.best_estimator_\n",
    "\n",
    "    # پیش‌بینی و ارزیابی\n",
    "    y_pred = best_model.predict(X_test)\n",
    "    mse = mean_squared_error(y_test, y_pred)\n",
    "    rmse = mse ** 0.5\n",
    "\n",
    "    # -------------------- لاگ در MLflow --------------------\n",
    "    mlflow.log_params(grid_search.best_params_)\n",
    "    mlflow.log_metric(\"mse\", mse)\n",
    "    mlflow.log_metric(\"rmse\", rmse)\n",
    "    mlflow.sklearn.log_model(best_model, \"random_forest_model\")\n",
    "\n",
    "    # ذخیره مدل با joblib (اختیاری)\n",
    "    joblib.dump(best_model, 'best_model.pkl')\n",
    "\n",
    "    print(f\"Model trained and logged with RMSE: {rmse:.2f}\")\n",
    "    print(\"Model saved as best_model.pkl\")\n"
   ]
  },
  {
   "cell_type": "code",
   "execution_count": 35,
   "id": "446a1936-d27d-47af-8385-764be22242f8",
   "metadata": {},
   "outputs": [
    {
     "name": "stdout",
     "output_type": "stream",
     "text": [
      "Requirement already satisfied: mlflow in c:\\users\\fakba\\anaconda3\\envs\\dynamicpricing\\lib\\site-packages (3.1.0)Note: you may need to restart the kernel to use updated packages.\n",
      "\n",
      "Requirement already satisfied: scikit-learn in c:\\users\\fakba\\anaconda3\\envs\\dynamicpricing\\lib\\site-packages (1.7.0)\n",
      "Requirement already satisfied: pandas in c:\\users\\fakba\\anaconda3\\envs\\dynamicpricing\\lib\\site-packages (2.3.0)\n",
      "Requirement already satisfied: joblib in c:\\users\\fakba\\anaconda3\\envs\\dynamicpricing\\lib\\site-packages (1.5.1)\n",
      "Requirement already satisfied: mlflow-skinny==3.1.0 in c:\\users\\fakba\\anaconda3\\envs\\dynamicpricing\\lib\\site-packages (from mlflow) (3.1.0)\n",
      "Requirement already satisfied: Flask<4 in c:\\users\\fakba\\anaconda3\\envs\\dynamicpricing\\lib\\site-packages (from mlflow) (3.1.1)\n",
      "Requirement already satisfied: alembic!=1.10.0,<2 in c:\\users\\fakba\\anaconda3\\envs\\dynamicpricing\\lib\\site-packages (from mlflow) (1.16.2)\n",
      "Requirement already satisfied: docker<8,>=4.0.0 in c:\\users\\fakba\\anaconda3\\envs\\dynamicpricing\\lib\\site-packages (from mlflow) (7.1.0)\n",
      "Requirement already satisfied: graphene<4 in c:\\users\\fakba\\anaconda3\\envs\\dynamicpricing\\lib\\site-packages (from mlflow) (3.4.3)\n",
      "Requirement already satisfied: matplotlib<4 in c:\\users\\fakba\\anaconda3\\envs\\dynamicpricing\\lib\\site-packages (from mlflow) (3.10.3)\n",
      "Requirement already satisfied: numpy<3 in c:\\users\\fakba\\anaconda3\\envs\\dynamicpricing\\lib\\site-packages (from mlflow) (2.2.0)\n",
      "Requirement already satisfied: pyarrow<21,>=4.0.0 in c:\\users\\fakba\\anaconda3\\envs\\dynamicpricing\\lib\\site-packages (from mlflow) (20.0.0)\n",
      "Requirement already satisfied: scipy<2 in c:\\users\\fakba\\anaconda3\\envs\\dynamicpricing\\lib\\site-packages (from mlflow) (1.15.3)\n",
      "Requirement already satisfied: sqlalchemy<3,>=1.4.0 in c:\\users\\fakba\\anaconda3\\envs\\dynamicpricing\\lib\\site-packages (from mlflow) (2.0.41)\n",
      "Requirement already satisfied: waitress<4 in c:\\users\\fakba\\anaconda3\\envs\\dynamicpricing\\lib\\site-packages (from mlflow) (3.0.2)\n",
      "Requirement already satisfied: cachetools<7,>=5.0.0 in c:\\users\\fakba\\anaconda3\\envs\\dynamicpricing\\lib\\site-packages (from mlflow-skinny==3.1.0->mlflow) (5.5.2)\n",
      "Requirement already satisfied: click<9,>=7.0 in c:\\users\\fakba\\anaconda3\\envs\\dynamicpricing\\lib\\site-packages (from mlflow-skinny==3.1.0->mlflow) (8.1.8)\n",
      "Requirement already satisfied: cloudpickle<4 in c:\\users\\fakba\\anaconda3\\envs\\dynamicpricing\\lib\\site-packages (from mlflow-skinny==3.1.0->mlflow) (3.0.0)\n",
      "Requirement already satisfied: databricks-sdk<1,>=0.20.0 in c:\\users\\fakba\\anaconda3\\envs\\dynamicpricing\\lib\\site-packages (from mlflow-skinny==3.1.0->mlflow) (0.57.0)\n",
      "Requirement already satisfied: fastapi<1 in c:\\users\\fakba\\anaconda3\\envs\\dynamicpricing\\lib\\site-packages (from mlflow-skinny==3.1.0->mlflow) (0.115.13)\n",
      "Requirement already satisfied: gitpython<4,>=3.1.9 in c:\\users\\fakba\\anaconda3\\envs\\dynamicpricing\\lib\\site-packages (from mlflow-skinny==3.1.0->mlflow) (3.1.44)\n",
      "Requirement already satisfied: importlib_metadata!=4.7.0,<9,>=3.7.0 in c:\\users\\fakba\\anaconda3\\envs\\dynamicpricing\\lib\\site-packages (from mlflow-skinny==3.1.0->mlflow) (8.5.0)\n",
      "Requirement already satisfied: opentelemetry-api<3,>=1.9.0 in c:\\users\\fakba\\anaconda3\\envs\\dynamicpricing\\lib\\site-packages (from mlflow-skinny==3.1.0->mlflow) (1.34.1)\n",
      "Requirement already satisfied: opentelemetry-sdk<3,>=1.9.0 in c:\\users\\fakba\\anaconda3\\envs\\dynamicpricing\\lib\\site-packages (from mlflow-skinny==3.1.0->mlflow) (1.34.1)\n",
      "Requirement already satisfied: packaging<26 in c:\\users\\fakba\\anaconda3\\envs\\dynamicpricing\\lib\\site-packages (from mlflow-skinny==3.1.0->mlflow) (24.2)\n",
      "Requirement already satisfied: protobuf<7,>=3.12.0 in c:\\users\\fakba\\anaconda3\\envs\\dynamicpricing\\lib\\site-packages (from mlflow-skinny==3.1.0->mlflow) (6.31.1)\n",
      "Requirement already satisfied: pydantic<3,>=1.10.8 in c:\\users\\fakba\\anaconda3\\envs\\dynamicpricing\\lib\\site-packages (from mlflow-skinny==3.1.0->mlflow) (2.11.7)\n",
      "Requirement already satisfied: pyyaml<7,>=5.1 in c:\\users\\fakba\\anaconda3\\envs\\dynamicpricing\\lib\\site-packages (from mlflow-skinny==3.1.0->mlflow) (6.0.2)\n",
      "Requirement already satisfied: requests<3,>=2.17.3 in c:\\users\\fakba\\anaconda3\\envs\\dynamicpricing\\lib\\site-packages (from mlflow-skinny==3.1.0->mlflow) (2.32.3)\n",
      "Requirement already satisfied: sqlparse<1,>=0.4.0 in c:\\users\\fakba\\anaconda3\\envs\\dynamicpricing\\lib\\site-packages (from mlflow-skinny==3.1.0->mlflow) (0.5.3)\n",
      "Requirement already satisfied: typing-extensions<5,>=4.0.0 in c:\\users\\fakba\\anaconda3\\envs\\dynamicpricing\\lib\\site-packages (from mlflow-skinny==3.1.0->mlflow) (4.12.2)\n",
      "Requirement already satisfied: uvicorn<1 in c:\\users\\fakba\\anaconda3\\envs\\dynamicpricing\\lib\\site-packages (from mlflow-skinny==3.1.0->mlflow) (0.34.3)\n",
      "Requirement already satisfied: threadpoolctl>=3.1.0 in c:\\users\\fakba\\anaconda3\\envs\\dynamicpricing\\lib\\site-packages (from scikit-learn) (3.6.0)\n",
      "Requirement already satisfied: python-dateutil>=2.8.2 in c:\\users\\fakba\\anaconda3\\envs\\dynamicpricing\\lib\\site-packages (from pandas) (2.9.0.post0)\n",
      "Requirement already satisfied: pytz>=2020.1 in c:\\users\\fakba\\anaconda3\\envs\\dynamicpricing\\lib\\site-packages (from pandas) (2025.2)\n",
      "Requirement already satisfied: tzdata>=2022.7 in c:\\users\\fakba\\anaconda3\\envs\\dynamicpricing\\lib\\site-packages (from pandas) (2025.2)\n",
      "Requirement already satisfied: Mako in c:\\users\\fakba\\anaconda3\\envs\\dynamicpricing\\lib\\site-packages (from alembic!=1.10.0,<2->mlflow) (1.3.10)\n",
      "Requirement already satisfied: colorama in c:\\users\\fakba\\anaconda3\\envs\\dynamicpricing\\lib\\site-packages (from click<9,>=7.0->mlflow-skinny==3.1.0->mlflow) (0.4.6)\n",
      "Requirement already satisfied: google-auth~=2.0 in c:\\users\\fakba\\anaconda3\\envs\\dynamicpricing\\lib\\site-packages (from databricks-sdk<1,>=0.20.0->mlflow-skinny==3.1.0->mlflow) (2.40.3)\n",
      "Requirement already satisfied: pywin32>=304 in c:\\users\\fakba\\anaconda3\\envs\\dynamicpricing\\lib\\site-packages (from docker<8,>=4.0.0->mlflow) (308)\n",
      "Requirement already satisfied: urllib3>=1.26.0 in c:\\users\\fakba\\anaconda3\\envs\\dynamicpricing\\lib\\site-packages (from docker<8,>=4.0.0->mlflow) (2.3.0)\n",
      "Requirement already satisfied: starlette<0.47.0,>=0.40.0 in c:\\users\\fakba\\anaconda3\\envs\\dynamicpricing\\lib\\site-packages (from fastapi<1->mlflow-skinny==3.1.0->mlflow) (0.46.2)\n",
      "Requirement already satisfied: blinker>=1.9.0 in c:\\users\\fakba\\anaconda3\\envs\\dynamicpricing\\lib\\site-packages (from Flask<4->mlflow) (1.9.0)\n",
      "Requirement already satisfied: itsdangerous>=2.2.0 in c:\\users\\fakba\\anaconda3\\envs\\dynamicpricing\\lib\\site-packages (from Flask<4->mlflow) (2.2.0)\n",
      "Requirement already satisfied: jinja2>=3.1.2 in c:\\users\\fakba\\anaconda3\\envs\\dynamicpricing\\lib\\site-packages (from Flask<4->mlflow) (3.1.6)\n",
      "Requirement already satisfied: markupsafe>=2.1.1 in c:\\users\\fakba\\anaconda3\\envs\\dynamicpricing\\lib\\site-packages (from Flask<4->mlflow) (3.0.2)\n",
      "Requirement already satisfied: werkzeug>=3.1.0 in c:\\users\\fakba\\anaconda3\\envs\\dynamicpricing\\lib\\site-packages (from Flask<4->mlflow) (3.1.3)\n",
      "Requirement already satisfied: gitdb<5,>=4.0.1 in c:\\users\\fakba\\anaconda3\\envs\\dynamicpricing\\lib\\site-packages (from gitpython<4,>=3.1.9->mlflow-skinny==3.1.0->mlflow) (4.0.12)\n",
      "Requirement already satisfied: smmap<6,>=3.0.1 in c:\\users\\fakba\\anaconda3\\envs\\dynamicpricing\\lib\\site-packages (from gitdb<5,>=4.0.1->gitpython<4,>=3.1.9->mlflow-skinny==3.1.0->mlflow) (5.0.2)\n",
      "Requirement already satisfied: pyasn1-modules>=0.2.1 in c:\\users\\fakba\\anaconda3\\envs\\dynamicpricing\\lib\\site-packages (from google-auth~=2.0->databricks-sdk<1,>=0.20.0->mlflow-skinny==3.1.0->mlflow) (0.4.2)\n",
      "Requirement already satisfied: rsa<5,>=3.1.4 in c:\\users\\fakba\\anaconda3\\envs\\dynamicpricing\\lib\\site-packages (from google-auth~=2.0->databricks-sdk<1,>=0.20.0->mlflow-skinny==3.1.0->mlflow) (4.9.1)\n",
      "Requirement already satisfied: graphql-core<3.3,>=3.1 in c:\\users\\fakba\\anaconda3\\envs\\dynamicpricing\\lib\\site-packages (from graphene<4->mlflow) (3.2.6)\n",
      "Requirement already satisfied: graphql-relay<3.3,>=3.1 in c:\\users\\fakba\\anaconda3\\envs\\dynamicpricing\\lib\\site-packages (from graphene<4->mlflow) (3.2.0)\n",
      "Requirement already satisfied: zipp>=3.20 in c:\\users\\fakba\\anaconda3\\envs\\dynamicpricing\\lib\\site-packages (from importlib_metadata!=4.7.0,<9,>=3.7.0->mlflow-skinny==3.1.0->mlflow) (3.21.0)\n",
      "Requirement already satisfied: contourpy>=1.0.1 in c:\\users\\fakba\\anaconda3\\envs\\dynamicpricing\\lib\\site-packages (from matplotlib<4->mlflow) (1.3.2)\n",
      "Requirement already satisfied: cycler>=0.10 in c:\\users\\fakba\\anaconda3\\envs\\dynamicpricing\\lib\\site-packages (from matplotlib<4->mlflow) (0.12.1)\n",
      "Requirement already satisfied: fonttools>=4.22.0 in c:\\users\\fakba\\anaconda3\\envs\\dynamicpricing\\lib\\site-packages (from matplotlib<4->mlflow) (4.58.4)\n",
      "Requirement already satisfied: kiwisolver>=1.3.1 in c:\\users\\fakba\\anaconda3\\envs\\dynamicpricing\\lib\\site-packages (from matplotlib<4->mlflow) (1.4.8)\n",
      "Requirement already satisfied: pillow>=8 in c:\\users\\fakba\\anaconda3\\envs\\dynamicpricing\\lib\\site-packages (from matplotlib<4->mlflow) (11.2.1)\n",
      "Requirement already satisfied: pyparsing>=2.3.1 in c:\\users\\fakba\\anaconda3\\envs\\dynamicpricing\\lib\\site-packages (from matplotlib<4->mlflow) (3.2.3)\n",
      "Requirement already satisfied: opentelemetry-semantic-conventions==0.55b1 in c:\\users\\fakba\\anaconda3\\envs\\dynamicpricing\\lib\\site-packages (from opentelemetry-sdk<3,>=1.9.0->mlflow-skinny==3.1.0->mlflow) (0.55b1)\n",
      "Requirement already satisfied: annotated-types>=0.6.0 in c:\\users\\fakba\\anaconda3\\envs\\dynamicpricing\\lib\\site-packages (from pydantic<3,>=1.10.8->mlflow-skinny==3.1.0->mlflow) (0.7.0)\n",
      "Requirement already satisfied: pydantic-core==2.33.2 in c:\\users\\fakba\\anaconda3\\envs\\dynamicpricing\\lib\\site-packages (from pydantic<3,>=1.10.8->mlflow-skinny==3.1.0->mlflow) (2.33.2)\n",
      "Requirement already satisfied: typing-inspection>=0.4.0 in c:\\users\\fakba\\anaconda3\\envs\\dynamicpricing\\lib\\site-packages (from pydantic<3,>=1.10.8->mlflow-skinny==3.1.0->mlflow) (0.4.1)\n",
      "Requirement already satisfied: six>=1.5 in c:\\users\\fakba\\anaconda3\\envs\\dynamicpricing\\lib\\site-packages (from python-dateutil>=2.8.2->pandas) (1.17.0)\n",
      "Requirement already satisfied: charset-normalizer<4,>=2 in c:\\users\\fakba\\anaconda3\\envs\\dynamicpricing\\lib\\site-packages (from requests<3,>=2.17.3->mlflow-skinny==3.1.0->mlflow) (3.3.2)\n",
      "Requirement already satisfied: idna<4,>=2.5 in c:\\users\\fakba\\anaconda3\\envs\\dynamicpricing\\lib\\site-packages (from requests<3,>=2.17.3->mlflow-skinny==3.1.0->mlflow) (3.7)\n",
      "Requirement already satisfied: certifi>=2017.4.17 in c:\\users\\fakba\\anaconda3\\envs\\dynamicpricing\\lib\\site-packages (from requests<3,>=2.17.3->mlflow-skinny==3.1.0->mlflow) (2025.4.26)\n",
      "Requirement already satisfied: pyasn1>=0.1.3 in c:\\users\\fakba\\anaconda3\\envs\\dynamicpricing\\lib\\site-packages (from rsa<5,>=3.1.4->google-auth~=2.0->databricks-sdk<1,>=0.20.0->mlflow-skinny==3.1.0->mlflow) (0.6.1)\n",
      "Requirement already satisfied: greenlet>=1 in c:\\users\\fakba\\anaconda3\\envs\\dynamicpricing\\lib\\site-packages (from sqlalchemy<3,>=1.4.0->mlflow) (3.2.3)\n",
      "Requirement already satisfied: anyio<5,>=3.6.2 in c:\\users\\fakba\\anaconda3\\envs\\dynamicpricing\\lib\\site-packages (from starlette<0.47.0,>=0.40.0->fastapi<1->mlflow-skinny==3.1.0->mlflow) (4.7.0)\n",
      "Requirement already satisfied: sniffio>=1.1 in c:\\users\\fakba\\anaconda3\\envs\\dynamicpricing\\lib\\site-packages (from anyio<5,>=3.6.2->starlette<0.47.0,>=0.40.0->fastapi<1->mlflow-skinny==3.1.0->mlflow) (1.3.0)\n",
      "Requirement already satisfied: h11>=0.8 in c:\\users\\fakba\\anaconda3\\envs\\dynamicpricing\\lib\\site-packages (from uvicorn<1->mlflow-skinny==3.1.0->mlflow) (0.16.0)\n"
     ]
    }
   ],
   "source": [
    "pip install mlflow scikit-learn pandas joblib\n"
   ]
  },
  {
   "cell_type": "code",
   "execution_count": 38,
   "id": "c537d186-2c20-460d-b2b8-8374c70901ea",
   "metadata": {},
   "outputs": [
    {
     "name": "stderr",
     "output_type": "stream",
     "text": [
      "2025/06/25 12:20:33 WARNING mlflow.models.model: Model logged without a signature and input example. Please set `input_example` parameter when logging the model to auto infer the model signature.\n"
     ]
    },
    {
     "name": "stdout",
     "output_type": "stream",
     "text": [
      "Model trained and logged with RMSE: 1.23\n",
      "Model saved as best_model.pkl\n"
     ]
    }
   ],
   "source": [
    "# Import necessary libraries\n",
    "import pandas as pd\n",
    "import numpy as np\n",
    "import mlflow\n",
    "import mlflow.sklearn\n",
    "import joblib\n",
    "from sklearn.ensemble import RandomForestRegressor\n",
    "from sklearn.model_selection import GridSearchCV, train_test_split\n",
    "from sklearn.metrics import mean_squared_error\n",
    "\n",
    "# Load the dataset\n",
    "data = pd.read_csv('data_modified.csv')\n",
    "\n",
    "# Define features and target variable\n",
    "# Exclude the target and any non-feature columns (like 'Churn' if not needed)\n",
    "features = data.drop(columns=['MonthlyCharges', 'Churn'])\n",
    "target = data['MonthlyCharges']\n",
    "\n",
    "# Split the data into training and testing sets\n",
    "X_train, X_test, y_train, y_test = train_test_split(features, target, test_size=0.2, random_state=42)\n",
    "\n",
    "# Set the MLflow experiment\n",
    "mlflow.set_experiment(\"MonthlyCharges_Prediction\")\n",
    "\n",
    "# Start MLflow run\n",
    "with mlflow.start_run():\n",
    "    # Define the model and parameter grid\n",
    "    model = RandomForestRegressor(random_state=42)\n",
    "    param_grid = {\n",
    "        'n_estimators': [50, 100],\n",
    "        'max_depth': [None, 10, 20]\n",
    "    }\n",
    "\n",
    "    # Perform Grid Search\n",
    "    grid_search = GridSearchCV(model, param_grid, cv=5, scoring='neg_mean_squared_error')\n",
    "    grid_search.fit(X_train, y_train)\n",
    "    best_model = grid_search.best_estimator_\n",
    "\n",
    "    # Predict and evaluate\n",
    "    y_pred = best_model.predict(X_test)\n",
    "    mse = mean_squared_error(y_test, y_pred)\n",
    "    rmse = mse ** 0.5\n",
    "\n",
    "    # Log parameters and metrics to MLflow\n",
    "    mlflow.log_params(grid_search.best_params_)\n",
    "    mlflow.log_metric(\"mse\", mse)\n",
    "    mlflow.log_metric(\"rmse\", rmse)\n",
    "    mlflow.sklearn.log_model(sk_model=best_model, name=\"random_forest_model\")\n",
    "\n",
    "\n",
    "    # Save the model using joblib\n",
    "    model_path = 'best_model.pkl'\n",
    "    joblib.dump(best_model, model_path)\n",
    "\n",
    "    print(f\"Model trained and logged with RMSE: {rmse:.2f}\")\n",
    "    print(f\"Model saved as {model_path}\")\n",
    "\n"
   ]
  },
  {
   "cell_type": "code",
   "execution_count": null,
   "id": "65d92b19-7847-4b24-a08f-52455d0cdf9b",
   "metadata": {},
   "outputs": [],
   "source": []
  }
 ],
 "metadata": {
  "kernelspec": {
   "display_name": "Python 3 (ipykernel)",
   "language": "python",
   "name": "python3"
  },
  "language_info": {
   "codemirror_mode": {
    "name": "ipython",
    "version": 3
   },
   "file_extension": ".py",
   "mimetype": "text/x-python",
   "name": "python",
   "nbconvert_exporter": "python",
   "pygments_lexer": "ipython3",
   "version": "3.12.11"
  }
 },
 "nbformat": 4,
 "nbformat_minor": 5
}
